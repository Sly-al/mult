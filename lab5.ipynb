{
 "cells": [
  {
   "cell_type": "markdown",
   "metadata": {},
   "source": [
    "# Лабораторная работа 5 (Gradient Boosting)"
   ]
  },
  {
   "cell_type": "code",
   "execution_count": 58,
   "metadata": {},
   "outputs": [],
   "source": [
    "import pandas as pd\n",
    "import matplotlib.pyplot as plt\n",
    "import numpy as np\n",
    "from sklearn.model_selection import train_test_split\n",
    "from sklearn.impute import SimpleImputer\n",
    "from sklearn.preprocessing import LabelEncoder, StandardScaler, OneHotEncoder, OrdinalEncoder\n",
    "from sklearn.metrics import mean_absolute_error, mean_squared_error, r2_score, accuracy_score, precision_score, recall_score, f1_score\n",
    "from sklearn.ensemble import GradientBoostingRegressor, GradientBoostingClassifier\n",
    "from sklearn.tree import DecisionTreeRegressor, DecisionTreeClassifier\n",
    "from utils import regression_cross_validate, display_metrics_table, classification_cross_validate, display_metrics_classification_table\n"
   ]
  },
  {
   "cell_type": "code",
   "execution_count": 2,
   "metadata": {},
   "outputs": [],
   "source": [
    "import warnings\n",
    "warnings.filterwarnings(\"ignore\")"
   ]
  },
  {
   "cell_type": "markdown",
   "metadata": {},
   "source": [
    "### Regression"
   ]
  },
  {
   "cell_type": "markdown",
   "metadata": {},
   "source": [
    "#### 1. Обработка данных"
   ]
  },
  {
   "cell_type": "code",
   "execution_count": 46,
   "metadata": {},
   "outputs": [
    {
     "data": {
      "text/html": [
       "<div>\n",
       "<style scoped>\n",
       "    .dataframe tbody tr th:only-of-type {\n",
       "        vertical-align: middle;\n",
       "    }\n",
       "\n",
       "    .dataframe tbody tr th {\n",
       "        vertical-align: top;\n",
       "    }\n",
       "\n",
       "    .dataframe thead th {\n",
       "        text-align: right;\n",
       "    }\n",
       "</style>\n",
       "<table border=\"1\" class=\"dataframe\">\n",
       "  <thead>\n",
       "    <tr style=\"text-align: right;\">\n",
       "      <th></th>\n",
       "      <th>Age</th>\n",
       "      <th>Gender</th>\n",
       "      <th>Education Level</th>\n",
       "      <th>Job Title</th>\n",
       "      <th>Years of Experience</th>\n",
       "      <th>Salary</th>\n",
       "    </tr>\n",
       "  </thead>\n",
       "  <tbody>\n",
       "    <tr>\n",
       "      <th>0</th>\n",
       "      <td>32</td>\n",
       "      <td>Male</td>\n",
       "      <td>Bachelor's</td>\n",
       "      <td>Software Engineer</td>\n",
       "      <td>5.0</td>\n",
       "      <td>90000</td>\n",
       "    </tr>\n",
       "    <tr>\n",
       "      <th>1</th>\n",
       "      <td>28</td>\n",
       "      <td>Female</td>\n",
       "      <td>Master's</td>\n",
       "      <td>Data Analyst</td>\n",
       "      <td>3.0</td>\n",
       "      <td>65000</td>\n",
       "    </tr>\n",
       "    <tr>\n",
       "      <th>2</th>\n",
       "      <td>45</td>\n",
       "      <td>Male</td>\n",
       "      <td>PhD</td>\n",
       "      <td>Senior Manager</td>\n",
       "      <td>15.0</td>\n",
       "      <td>150000</td>\n",
       "    </tr>\n",
       "    <tr>\n",
       "      <th>3</th>\n",
       "      <td>36</td>\n",
       "      <td>Female</td>\n",
       "      <td>Bachelor's</td>\n",
       "      <td>Sales Associate</td>\n",
       "      <td>7.0</td>\n",
       "      <td>60000</td>\n",
       "    </tr>\n",
       "    <tr>\n",
       "      <th>4</th>\n",
       "      <td>52</td>\n",
       "      <td>Male</td>\n",
       "      <td>Master's</td>\n",
       "      <td>Director</td>\n",
       "      <td>20.0</td>\n",
       "      <td>200000</td>\n",
       "    </tr>\n",
       "  </tbody>\n",
       "</table>\n",
       "</div>"
      ],
      "text/plain": [
       "   Age  Gender Education Level          Job Title  Years of Experience  Salary\n",
       "0   32    Male      Bachelor's  Software Engineer                  5.0   90000\n",
       "1   28  Female        Master's       Data Analyst                  3.0   65000\n",
       "2   45    Male             PhD     Senior Manager                 15.0  150000\n",
       "3   36  Female      Bachelor's    Sales Associate                  7.0   60000\n",
       "4   52    Male        Master's           Director                 20.0  200000"
      ]
     },
     "execution_count": 46,
     "metadata": {},
     "output_type": "execute_result"
    }
   ],
   "source": [
    "df = pd.read_csv('data/Salary_Data.csv')\n",
    "df.head()"
   ]
  },
  {
   "cell_type": "code",
   "execution_count": 47,
   "metadata": {},
   "outputs": [],
   "source": [
    "X, y = df.drop(columns=['Salary', 'Job Title']), df['Salary']\n",
    "\n",
    "X_train, X_test, y_train, y_test = train_test_split(X, y, random_state=42)\n",
    "\n",
    "gender_le = LabelEncoder()\n",
    "el_le = LabelEncoder()\n",
    "\n",
    "X_train['Gender'] = gender_le.fit_transform(X_train['Gender'])\n",
    "X_test['Gender'] = gender_le.transform(X_test['Gender'])\n",
    "\n",
    "X_train['Education Level'] = el_le.fit_transform(X_train['Education Level'])\n",
    "X_test['Education Level'] = el_le.transform(X_test['Education Level'])\n"
   ]
  },
  {
   "cell_type": "markdown",
   "metadata": {},
   "source": [
    "#### 2. Построение бейзлайна"
   ]
  },
  {
   "cell_type": "code",
   "execution_count": 18,
   "metadata": {},
   "outputs": [
    {
     "name": "stdout",
     "output_type": "stream",
     "text": [
      "| Metric   |            Mean |        Std Dev |\n",
      "|:---------|----------------:|---------------:|\n",
      "| MAE      | 11563.4         | 1997.19        |\n",
      "| MSE      |     3.71009e+08 |    1.05949e+08 |\n",
      "| R2       |     0.835889    |    0.0595874   |\n",
      "\n",
      "=== Результаты на Тесте ===\n",
      "Среднеквадратичная ошибка (MSE): 298160016.58\n",
      "Средняя абсолютная ошибка (MAE): 11296.05\n",
      "Коэффициент детерминации (R^2): 0.86\n"
     ]
    }
   ],
   "source": [
    "metrics = regression_cross_validate(GradientBoostingRegressor, X_train.to_numpy(), y_train.to_numpy(), n_folds=5, random_state=42, n_estimators=50, max_depth=10)\n",
    "display_metrics_table(*metrics)\n",
    "\n",
    "gb = GradientBoostingRegressor(n_estimators=50, max_depth=10, random_state=42)\n",
    "gb.fit(X_train, y_train)\n",
    "\n",
    "y_pred = gb.predict(X_test)\n",
    "\n",
    "# Метрики\n",
    "mse = mean_squared_error(y_test, y_pred)\n",
    "mae = mean_absolute_error(y_test, y_pred)\n",
    "r2 = r2_score(y_test, y_pred)\n",
    "\n",
    "# Вывод метрик\n",
    "print(\"\\n=== Результаты на Тесте ===\")\n",
    "print(f\"Среднеквадратичная ошибка (MSE): {mse:.2f}\")\n",
    "print(f\"Средняя абсолютная ошибка (MAE): {mae:.2f}\")\n",
    "print(f\"Коэффициент детерминации (R^2): {r2:.2f}\")\n"
   ]
  },
  {
   "cell_type": "markdown",
   "metadata": {},
   "source": [
    "Как можем увидеть значение метрики $R^2$ около 0.86, что означает что около 86% дисперсии данных объясняется моделью."
   ]
  },
  {
   "cell_type": "markdown",
   "metadata": {},
   "source": [
    "#### 3. Формулировка гипотез"
   ]
  },
  {
   "cell_type": "markdown",
   "metadata": {},
   "source": [
    "Сформулируем несколько гипотез, которые могут помочь улучшить качество модели\n",
    "\n",
    "1) Поменять Encoder категориальных признаков с `LabelEncoder` на `OneHotEncoder`\n",
    "2) Отмасштабировать численные признаки\n",
    "3) Уменьшить глубину и  увеличить число деревьев\n"
   ]
  },
  {
   "cell_type": "code",
   "execution_count": 50,
   "metadata": {},
   "outputs": [],
   "source": [
    "onehot = OneHotEncoder(sparse_output=False, drop='first')\n",
    "\n",
    "categorical_features = ['Gender', 'Education Level']\n",
    "\n",
    "encoded_train_data = onehot.fit_transform(X_train[categorical_features])\n",
    "encoded_test_data = onehot.transform(X_test[categorical_features])\n",
    "\n",
    "encoded_df = pd.DataFrame(encoded_train_data, columns=onehot.get_feature_names_out(categorical_features))\n",
    "X_train_upd = X_train.drop(columns=categorical_features).reset_index(drop=True)\n",
    "X_train_upd = pd.concat([X_train_upd, encoded_df], axis=1)\n",
    "\n",
    "encoded_df = pd.DataFrame(encoded_test_data, columns=onehot.get_feature_names_out(categorical_features))\n",
    "X_test_upd = X_test.drop(columns=categorical_features).reset_index(drop=True)\n",
    "X_test_upd = pd.concat([X_test_upd, encoded_df], axis=1)\n",
    "\n",
    "scaler = StandardScaler()\n",
    "num_features = ['Age', 'Years of Experience']\n",
    "X_train_upd[num_features] = scaler.fit_transform(X_train[num_features])\n",
    "X_test_upd[num_features] = scaler.transform(X_test[num_features])\n"
   ]
  },
  {
   "cell_type": "code",
   "execution_count": 59,
   "metadata": {},
   "outputs": [
    {
     "name": "stdout",
     "output_type": "stream",
     "text": [
      "| Metric   |            Mean |       Std Dev |\n",
      "|:---------|----------------:|--------------:|\n",
      "| MAE      | 10431.1         | 896.828       |\n",
      "| MSE      |     2.39143e+08 |   3.99802e+07 |\n",
      "| R2       |     0.895984    |   0.0233652   |\n",
      "\n",
      "=== Результаты на Тесте ===\n",
      "Среднеквадратичная ошибка (MSE): 280076428.74\n",
      "Средняя абсолютная ошибка (MAE): 10954.94\n",
      "Коэффициент детерминации (R^2): 0.87\n"
     ]
    }
   ],
   "source": [
    "metrics = regression_cross_validate(GradientBoostingRegressor, X_train_upd.to_numpy(), y_train.to_numpy(), n_folds=5, random_state=42, n_estimators=100, max_depth=3)\n",
    "display_metrics_table(*metrics)\n",
    "\n",
    "gb = GradientBoostingRegressor(n_estimators=100, max_depth=3, random_state=42)\n",
    "gb.fit(X_train_upd, y_train)\n",
    "\n",
    "y_pred = gb.predict(X_test_upd)\n",
    "\n",
    "# Метрики\n",
    "mse = mean_squared_error(y_test, y_pred)\n",
    "mae = mean_absolute_error(y_test, y_pred)\n",
    "r2 = r2_score(y_test, y_pred)\n",
    "\n",
    "# Вывод метрик\n",
    "print(\"\\n=== Результаты на Тесте ===\")\n",
    "print(f\"Среднеквадратичная ошибка (MSE): {mse:.2f}\")\n",
    "print(f\"Средняя абсолютная ошибка (MAE): {mae:.2f}\")\n",
    "print(f\"Коэффициент детерминации (R^2): {r2:.2f}\")"
   ]
  },
  {
   "cell_type": "markdown",
   "metadata": {},
   "source": [
    "Можно увидеть, что в целом значения метрик улучшились. Результаты на тестовой выборке также показывают приросты."
   ]
  },
  {
   "cell_type": "markdown",
   "metadata": {},
   "source": [
    "#### 4. Реализация своего класса"
   ]
  },
  {
   "cell_type": "code",
   "execution_count": null,
   "metadata": {},
   "outputs": [],
   "source": [
    "class MyGradientBoostingRegressor:\n",
    "    def __init__(self, n_estimators=100, learning_rate=0.05, max_depth=3):\n",
    "        self.n_estimators = n_estimators\n",
    "        self.learning_rate = learning_rate\n",
    "        self.max_depth = max_depth\n",
    "        self.trees = []\n",
    "        self.initial_value = None\n",
    "\n",
    "    def fit(self, X, y):\n",
    "        # Initialize model with the mean of y\n",
    "        self.initial_value = np.mean(y)\n",
    "        residual = y - self.initial_value\n",
    "\n",
    "        for _ in range(self.n_estimators):\n",
    "            tree = DecisionTreeRegressor(max_depth=self.max_depth)\n",
    "            tree.fit(X, residual)\n",
    "            predictions = tree.predict(X)\n",
    "            residual -= self.learning_rate * predictions\n",
    "            self.trees.append(tree)\n",
    "\n",
    "    def predict(self, X):\n",
    "        predictions = np.full(X.shape[0], self.initial_value)\n",
    "        for tree in self.trees:\n",
    "            predictions += self.learning_rate * tree.predict(X)\n",
    "        return predictions\n",
    "\n"
   ]
  },
  {
   "cell_type": "code",
   "execution_count": 48,
   "metadata": {},
   "outputs": [
    {
     "name": "stdout",
     "output_type": "stream",
     "text": [
      "| Metric   |            Mean |        Std Dev |\n",
      "|:---------|----------------:|---------------:|\n",
      "| MAE      | 11477.3         | 2011.06        |\n",
      "| MSE      |     3.67874e+08 |    1.06694e+08 |\n",
      "| R2       |     0.83715     |    0.0599519   |\n",
      "\n",
      "=== Результаты на Тесте ===\n",
      "Среднеквадратичная ошибка (MSE): 292541898.19\n",
      "Средняя абсолютная ошибка (MAE): 11204.65\n",
      "Коэффициент детерминации (R^2): 0.87\n"
     ]
    }
   ],
   "source": [
    "metrics = regression_cross_validate(MyGradientBoostingRegressor, X_train.to_numpy(), y_train.to_numpy(), n_folds=5, n_estimators=50, max_depth=10)\n",
    "display_metrics_table(*metrics)\n",
    "\n",
    "gb = MyGradientBoostingRegressor(n_estimators=50, max_depth=10)\n",
    "gb.fit(X_train, y_train)\n",
    "\n",
    "y_pred = gb.predict(X_test)\n",
    "\n",
    "# Метрики\n",
    "mse = mean_squared_error(y_test, y_pred)\n",
    "mae = mean_absolute_error(y_test, y_pred)\n",
    "r2 = r2_score(y_test, y_pred)\n",
    "\n",
    "# Вывод метрик\n",
    "print(\"\\n=== Результаты на Тесте ===\")\n",
    "print(f\"Среднеквадратичная ошибка (MSE): {mse:.2f}\")\n",
    "print(f\"Средняя абсолютная ошибка (MAE): {mae:.2f}\")\n",
    "print(f\"Коэффициент детерминации (R^2): {r2:.2f}\")\n"
   ]
  },
  {
   "cell_type": "code",
   "execution_count": 56,
   "metadata": {},
   "outputs": [
    {
     "name": "stdout",
     "output_type": "stream",
     "text": [
      "| Metric   |            Mean |       Std Dev |\n",
      "|:---------|----------------:|--------------:|\n",
      "| MAE      | 10618.1         | 966.691       |\n",
      "| MSE      |     2.62705e+08 |   3.46773e+07 |\n",
      "| R2       |     0.885892    |   0.0223521   |\n",
      "\n",
      "=== Результаты на Тесте ===\n",
      "Среднеквадратичная ошибка (MSE): 283508373.85\n",
      "Средняя абсолютная ошибка (MAE): 10920.14\n",
      "Коэффициент детерминации (R^2): 0.87\n"
     ]
    }
   ],
   "source": [
    "metrics = regression_cross_validate(MyGradientBoostingRegressor, X_train_upd.to_numpy(), y_train.to_numpy(), n_folds=5, n_estimators=300, max_depth=3)\n",
    "display_metrics_table(*metrics)\n",
    "\n",
    "gb = GradientBoostingRegressor(n_estimators=100, max_depth=3)\n",
    "gb.fit(X_train_upd, y_train)\n",
    "\n",
    "y_pred = gb.predict(X_test_upd)\n",
    "\n",
    "# Метрики\n",
    "mse = mean_squared_error(y_test, y_pred)\n",
    "mae = mean_absolute_error(y_test, y_pred)\n",
    "r2 = r2_score(y_test, y_pred)\n",
    "\n",
    "# Вывод метрик\n",
    "print(\"\\n=== Результаты на Тесте ===\")\n",
    "print(f\"Среднеквадратичная ошибка (MSE): {mse:.2f}\")\n",
    "print(f\"Средняя абсолютная ошибка (MAE): {mae:.2f}\")\n",
    "print(f\"Коэффициент детерминации (R^2): {r2:.2f}\")"
   ]
  },
  {
   "cell_type": "markdown",
   "metadata": {},
   "source": [
    "### Classification"
   ]
  },
  {
   "cell_type": "markdown",
   "metadata": {},
   "source": [
    " #### 1. Обработка данных"
   ]
  },
  {
   "cell_type": "code",
   "execution_count": 61,
   "metadata": {},
   "outputs": [
    {
     "data": {
      "text/html": [
       "<div>\n",
       "<style scoped>\n",
       "    .dataframe tbody tr th:only-of-type {\n",
       "        vertical-align: middle;\n",
       "    }\n",
       "\n",
       "    .dataframe tbody tr th {\n",
       "        vertical-align: top;\n",
       "    }\n",
       "\n",
       "    .dataframe thead th {\n",
       "        text-align: right;\n",
       "    }\n",
       "</style>\n",
       "<table border=\"1\" class=\"dataframe\">\n",
       "  <thead>\n",
       "    <tr style=\"text-align: right;\">\n",
       "      <th></th>\n",
       "      <th>id</th>\n",
       "      <th>Gender</th>\n",
       "      <th>Age</th>\n",
       "      <th>City</th>\n",
       "      <th>Profession</th>\n",
       "      <th>Academic Pressure</th>\n",
       "      <th>Work Pressure</th>\n",
       "      <th>CGPA</th>\n",
       "      <th>Study Satisfaction</th>\n",
       "      <th>Job Satisfaction</th>\n",
       "      <th>Sleep Duration</th>\n",
       "      <th>Dietary Habits</th>\n",
       "      <th>Degree</th>\n",
       "      <th>Have you ever had suicidal thoughts ?</th>\n",
       "      <th>Work/Study Hours</th>\n",
       "      <th>Financial Stress</th>\n",
       "      <th>Family History of Mental Illness</th>\n",
       "      <th>Depression</th>\n",
       "    </tr>\n",
       "  </thead>\n",
       "  <tbody>\n",
       "    <tr>\n",
       "      <th>0</th>\n",
       "      <td>2</td>\n",
       "      <td>Male</td>\n",
       "      <td>33.0</td>\n",
       "      <td>Visakhapatnam</td>\n",
       "      <td>Student</td>\n",
       "      <td>5.0</td>\n",
       "      <td>0.0</td>\n",
       "      <td>8.97</td>\n",
       "      <td>2.0</td>\n",
       "      <td>0.0</td>\n",
       "      <td>5-6 hours</td>\n",
       "      <td>Healthy</td>\n",
       "      <td>B.Pharm</td>\n",
       "      <td>Yes</td>\n",
       "      <td>3.0</td>\n",
       "      <td>1.0</td>\n",
       "      <td>No</td>\n",
       "      <td>1</td>\n",
       "    </tr>\n",
       "    <tr>\n",
       "      <th>1</th>\n",
       "      <td>8</td>\n",
       "      <td>Female</td>\n",
       "      <td>24.0</td>\n",
       "      <td>Bangalore</td>\n",
       "      <td>Student</td>\n",
       "      <td>2.0</td>\n",
       "      <td>0.0</td>\n",
       "      <td>5.90</td>\n",
       "      <td>5.0</td>\n",
       "      <td>0.0</td>\n",
       "      <td>5-6 hours</td>\n",
       "      <td>Moderate</td>\n",
       "      <td>BSc</td>\n",
       "      <td>No</td>\n",
       "      <td>3.0</td>\n",
       "      <td>2.0</td>\n",
       "      <td>Yes</td>\n",
       "      <td>0</td>\n",
       "    </tr>\n",
       "    <tr>\n",
       "      <th>2</th>\n",
       "      <td>26</td>\n",
       "      <td>Male</td>\n",
       "      <td>31.0</td>\n",
       "      <td>Srinagar</td>\n",
       "      <td>Student</td>\n",
       "      <td>3.0</td>\n",
       "      <td>0.0</td>\n",
       "      <td>7.03</td>\n",
       "      <td>5.0</td>\n",
       "      <td>0.0</td>\n",
       "      <td>Less than 5 hours</td>\n",
       "      <td>Healthy</td>\n",
       "      <td>BA</td>\n",
       "      <td>No</td>\n",
       "      <td>9.0</td>\n",
       "      <td>1.0</td>\n",
       "      <td>Yes</td>\n",
       "      <td>0</td>\n",
       "    </tr>\n",
       "    <tr>\n",
       "      <th>3</th>\n",
       "      <td>30</td>\n",
       "      <td>Female</td>\n",
       "      <td>28.0</td>\n",
       "      <td>Varanasi</td>\n",
       "      <td>Student</td>\n",
       "      <td>3.0</td>\n",
       "      <td>0.0</td>\n",
       "      <td>5.59</td>\n",
       "      <td>2.0</td>\n",
       "      <td>0.0</td>\n",
       "      <td>7-8 hours</td>\n",
       "      <td>Moderate</td>\n",
       "      <td>BCA</td>\n",
       "      <td>Yes</td>\n",
       "      <td>4.0</td>\n",
       "      <td>5.0</td>\n",
       "      <td>Yes</td>\n",
       "      <td>1</td>\n",
       "    </tr>\n",
       "    <tr>\n",
       "      <th>4</th>\n",
       "      <td>32</td>\n",
       "      <td>Female</td>\n",
       "      <td>25.0</td>\n",
       "      <td>Jaipur</td>\n",
       "      <td>Student</td>\n",
       "      <td>4.0</td>\n",
       "      <td>0.0</td>\n",
       "      <td>8.13</td>\n",
       "      <td>3.0</td>\n",
       "      <td>0.0</td>\n",
       "      <td>5-6 hours</td>\n",
       "      <td>Moderate</td>\n",
       "      <td>M.Tech</td>\n",
       "      <td>Yes</td>\n",
       "      <td>1.0</td>\n",
       "      <td>1.0</td>\n",
       "      <td>No</td>\n",
       "      <td>0</td>\n",
       "    </tr>\n",
       "  </tbody>\n",
       "</table>\n",
       "</div>"
      ],
      "text/plain": [
       "   id  Gender   Age           City Profession  Academic Pressure  \\\n",
       "0   2    Male  33.0  Visakhapatnam    Student                5.0   \n",
       "1   8  Female  24.0      Bangalore    Student                2.0   \n",
       "2  26    Male  31.0       Srinagar    Student                3.0   \n",
       "3  30  Female  28.0       Varanasi    Student                3.0   \n",
       "4  32  Female  25.0         Jaipur    Student                4.0   \n",
       "\n",
       "   Work Pressure  CGPA  Study Satisfaction  Job Satisfaction  \\\n",
       "0            0.0  8.97                 2.0               0.0   \n",
       "1            0.0  5.90                 5.0               0.0   \n",
       "2            0.0  7.03                 5.0               0.0   \n",
       "3            0.0  5.59                 2.0               0.0   \n",
       "4            0.0  8.13                 3.0               0.0   \n",
       "\n",
       "      Sleep Duration Dietary Habits   Degree  \\\n",
       "0          5-6 hours        Healthy  B.Pharm   \n",
       "1          5-6 hours       Moderate      BSc   \n",
       "2  Less than 5 hours        Healthy       BA   \n",
       "3          7-8 hours       Moderate      BCA   \n",
       "4          5-6 hours       Moderate   M.Tech   \n",
       "\n",
       "  Have you ever had suicidal thoughts ?  Work/Study Hours  Financial Stress  \\\n",
       "0                                   Yes               3.0               1.0   \n",
       "1                                    No               3.0               2.0   \n",
       "2                                    No               9.0               1.0   \n",
       "3                                   Yes               4.0               5.0   \n",
       "4                                   Yes               1.0               1.0   \n",
       "\n",
       "  Family History of Mental Illness  Depression  \n",
       "0                               No           1  \n",
       "1                              Yes           0  \n",
       "2                              Yes           0  \n",
       "3                              Yes           1  \n",
       "4                               No           0  "
      ]
     },
     "execution_count": 61,
     "metadata": {},
     "output_type": "execute_result"
    }
   ],
   "source": [
    "df = pd.read_csv('data/Student_Depression_Dataset.csv')\n",
    "df.head()"
   ]
  },
  {
   "cell_type": "code",
   "execution_count": 62,
   "metadata": {},
   "outputs": [],
   "source": [
    "X, y = df.drop(columns=['Depression', 'id']), df['Depression']\n",
    "\n",
    "X_train, X_test, y_train, y_test = train_test_split(X, y, random_state=42)\n",
    "\n",
    "categorical_features = ['Gender', 'City', 'Profession', 'Sleep Duration', 'Dietary Habits', 'Degree', 'Have you ever had suicidal thoughts ?', 'Family History of Mental Illness']\n",
    "num_features = ['Age', 'Academic Pressure', 'Work Pressure', 'CGPA', 'Study Satisfaction', 'Job Satisfaction', 'Work/Study Hours', 'Financial Stress']\n",
    "\n",
    "le = OrdinalEncoder(handle_unknown='use_encoded_value',\n",
    "                    unknown_value=99)\n",
    "\n",
    "X_train[categorical_features] = le.fit_transform(X_train[categorical_features])\n",
    "X_test[categorical_features] = le.transform(X_test[categorical_features])\n",
    "\n",
    "imputer = SimpleImputer(strategy='most_frequent') \n",
    "X_train = pd.DataFrame(imputer.fit_transform(X_train), columns=X_train.columns)\n",
    "X_test = pd.DataFrame(imputer.transform(X_test), columns=X_test.columns)"
   ]
  },
  {
   "cell_type": "markdown",
   "metadata": {},
   "source": [
    "#### 2. Построение бейзлайна "
   ]
  },
  {
   "cell_type": "code",
   "execution_count": 30,
   "metadata": {},
   "outputs": [
    {
     "name": "stdout",
     "output_type": "stream",
     "text": [
      "| Metric    |     Mean |    Std Dev |\n",
      "|:----------|---------:|-----------:|\n",
      "| Accuracy  | 0.833309 | 0.00314687 |\n",
      "| Precision | 0.83273  | 0.00320975 |\n",
      "| Recall    | 0.833309 | 0.00314687 |\n",
      "| F1-score  | 0.832694 | 0.0030869  |\n",
      "\n",
      "=== Результаты на Тесте ===\n",
      "1. Accuracy: 82.50%\n",
      "2. Precision: 82.46%\n",
      "3. Recall: 82.50%\n",
      "4. F1-score: 82.47%\n"
     ]
    }
   ],
   "source": [
    "metrics = classification_cross_validate(GradientBoostingClassifier, X_train.to_numpy(), y_train.to_numpy(), n_folds=5, n_estimators=50, max_depth=10)\n",
    "display_metrics_classification_table(*metrics)\n",
    "\n",
    "gb = GradientBoostingClassifier(random_state=42, n_estimators=50, max_depth=10)\n",
    "gb.fit(X_train, y_train)\n",
    "\n",
    "y_pred = gb.predict(X_test)\n",
    "\n",
    "accuracy = accuracy_score(y_test, y_pred)\n",
    "precision = precision_score(y_test, y_pred, average='weighted')\n",
    "recall = recall_score(y_test, y_pred, average='weighted')\n",
    "f1 = f1_score(y_test, y_pred, average='weighted')\n",
    "\n",
    "# Выводим результаты\n",
    "print(\"\\n=== Результаты на Тесте ===\")\n",
    "print(f\"1. Accuracy: {accuracy:.2%}\")\n",
    "print(f\"2. Precision: {precision:.2%}\")\n",
    "print(f\"3. Recall: {recall:.2%}\")\n",
    "print(f\"4. F1-score: {f1:.2%}\")"
   ]
  },
  {
   "cell_type": "markdown",
   "metadata": {},
   "source": [
    "#### 3. Формулировка гипотез"
   ]
  },
  {
   "cell_type": "markdown",
   "metadata": {},
   "source": [
    "Сформулируем несколько гипотез, которые могут помочь улучшить качество модели\n",
    "\n",
    "1) Поменять Encoder категориальных признаков с `LabelEncoder` на `OneHotEncoder`\n",
    "2) Отмасштабировать численные признаки\n",
    "3) Уменьшить глубину и  увеличить число деревьев"
   ]
  },
  {
   "cell_type": "code",
   "execution_count": 69,
   "metadata": {},
   "outputs": [],
   "source": [
    "onehot = OneHotEncoder(sparse_output=False, drop='first', handle_unknown='ignore')\n",
    "\n",
    "encoded_train_data = onehot.fit_transform(X_train[categorical_features])\n",
    "encoded_test_data = onehot.transform(X_test[categorical_features])\n",
    "\n",
    "encoded_df = pd.DataFrame(encoded_train_data, columns=onehot.get_feature_names_out(categorical_features))\n",
    "X_train_upd = X_train.drop(columns=categorical_features).reset_index(drop=True)\n",
    "X_train_upd = pd.concat([X_train_upd, encoded_df], axis=1)\n",
    "\n",
    "encoded_df = pd.DataFrame(encoded_test_data, columns=onehot.get_feature_names_out(categorical_features))\n",
    "X_test_upd = X_test.drop(columns=categorical_features).reset_index(drop=True)\n",
    "X_test_upd = pd.concat([X_test_upd, encoded_df], axis=1)\n",
    "\n",
    "X_train_upd[num_features] = scaler.fit_transform(X_train[num_features])\n",
    "X_test_upd[num_features] = scaler.transform(X_test[num_features])\n"
   ]
  },
  {
   "cell_type": "code",
   "execution_count": 29,
   "metadata": {},
   "outputs": [
    {
     "name": "stdout",
     "output_type": "stream",
     "text": [
      "| Metric    |     Mean |    Std Dev |\n",
      "|:----------|---------:|-----------:|\n",
      "| Accuracy  | 0.847407 | 0.00576178 |\n",
      "| Precision | 0.846933 | 0.00585733 |\n",
      "| Recall    | 0.847407 | 0.00576178 |\n",
      "| F1-score  | 0.846854 | 0.00575767 |\n",
      "\n",
      "=== Результаты на Тесте ===\n",
      "1. Accuracy: 83.60%\n",
      "2. Precision: 83.55%\n",
      "3. Recall: 83.60%\n",
      "4. F1-score: 83.55%\n"
     ]
    }
   ],
   "source": [
    "metrics = classification_cross_validate(GradientBoostingClassifier, X_train_upd.to_numpy(), y_train.to_numpy(), n_folds=5, random_state=42, n_estimators=100, max_depth=5)\n",
    "display_metrics_classification_table(*metrics)\n",
    "\n",
    "gb = GradientBoostingClassifier(n_estimators=100, max_depth=5, random_state=42)\n",
    "gb.fit(X_train_upd, y_train)\n",
    "\n",
    "y_pred = gb.predict(X_test_upd)\n",
    "\n",
    "accuracy = accuracy_score(y_test, y_pred)\n",
    "precision = precision_score(y_test, y_pred, average='weighted')\n",
    "recall = recall_score(y_test, y_pred, average='weighted')\n",
    "f1 = f1_score(y_test, y_pred, average='weighted')\n",
    "\n",
    "# Выводим результаты\n",
    "print(\"\\n=== Результаты на Тесте ===\")\n",
    "print(f\"1. Accuracy: {accuracy:.2%}\")\n",
    "print(f\"2. Precision: {precision:.2%}\")\n",
    "print(f\"3. Recall: {recall:.2%}\")\n",
    "print(f\"4. F1-score: {f1:.2%}\")"
   ]
  },
  {
   "cell_type": "markdown",
   "metadata": {},
   "source": [
    "Можно увидеть что в среднем значения метрик улучшились. \n",
    "Результаты на тестовой выборке также показывают приросты."
   ]
  },
  {
   "cell_type": "markdown",
   "metadata": {},
   "source": [
    "#### 4. Реализация своего класса"
   ]
  },
  {
   "cell_type": "code",
   "execution_count": 74,
   "metadata": {},
   "outputs": [],
   "source": [
    "class MyGradientBoostingClassifier:\n",
    "    def __init__(self, n_estimators=100, learning_rate=0.1, max_depth=3):\n",
    "        self.n_estimators = n_estimators\n",
    "        self.learning_rate = learning_rate\n",
    "        self.max_depth = max_depth\n",
    "        self.trees = []\n",
    "        self.initial_value = None\n",
    "\n",
    "    def _log_odds(self, y):\n",
    "        p = np.clip(np.mean(y), 1e-15, 1 - 1e-15)\n",
    "        return np.log(p / (1 - p))\n",
    "\n",
    "    def fit(self, X, y):\n",
    "        # Initialize with log-odds\n",
    "        self.initial_value = self._log_odds(y)\n",
    "        residual = y - self._sigmoid(self.initial_value)\n",
    "\n",
    "        for _ in range(self.n_estimators):\n",
    "            tree = DecisionTreeRegressor(max_depth=self.max_depth)\n",
    "            tree.fit(X, residual)\n",
    "            predictions = tree.predict(X)\n",
    "            residual -= self.learning_rate * predictions\n",
    "            self.trees.append(tree)\n",
    "\n",
    "    def predict_proba(self, X):\n",
    "        log_odds = np.full(X.shape[0], self.initial_value)\n",
    "        for tree in self.trees:\n",
    "            log_odds += self.learning_rate * tree.predict(X)\n",
    "        proba = self._sigmoid(log_odds)\n",
    "        return np.vstack([1 - proba, proba]).T\n",
    "\n",
    "    def predict(self, X):\n",
    "        proba = self.predict_proba(X)\n",
    "        return (proba[:, 1] > 0.6).astype(int)\n",
    "\n",
    "    def _sigmoid(self, z):\n",
    "        return 1 / (1 + np.exp(-z))"
   ]
  },
  {
   "cell_type": "code",
   "execution_count": 75,
   "metadata": {},
   "outputs": [
    {
     "name": "stdout",
     "output_type": "stream",
     "text": [
      "| Metric    |     Mean |    Std Dev |\n",
      "|:----------|---------:|-----------:|\n",
      "| Accuracy  | 0.818877 | 0.00498481 |\n",
      "| Precision | 0.824859 | 0.00390499 |\n",
      "| Recall    | 0.818877 | 0.00498481 |\n",
      "| F1-score  | 0.819985 | 0.00481491 |\n",
      "\n",
      "=== Результаты на Тесте ===\n",
      "1. Accuracy: 81.48%\n",
      "2. Precision: 82.13%\n",
      "3. Recall: 81.48%\n",
      "4. F1-score: 81.59%\n"
     ]
    }
   ],
   "source": [
    "metrics = classification_cross_validate(MyGradientBoostingClassifier, X_train.to_numpy(), y_train.to_numpy(), n_folds=5, n_estimators=50, max_depth=10)\n",
    "display_metrics_classification_table(*metrics)\n",
    "\n",
    "gb = MyGradientBoostingClassifier(n_estimators=50, max_depth=10)\n",
    "gb.fit(X_train, y_train)\n",
    "\n",
    "y_pred = gb.predict(X_test)\n",
    "\n",
    "accuracy = accuracy_score(y_test, y_pred)\n",
    "precision = precision_score(y_test, y_pred, average='weighted')\n",
    "recall = recall_score(y_test, y_pred, average='weighted')\n",
    "f1 = f1_score(y_test, y_pred, average='weighted')\n",
    "\n",
    "# Выводим результаты\n",
    "print(\"\\n=== Результаты на Тесте ===\")\n",
    "print(f\"1. Accuracy: {accuracy:.2%}\")\n",
    "print(f\"2. Precision: {precision:.2%}\")\n",
    "print(f\"3. Recall: {recall:.2%}\")\n",
    "print(f\"4. F1-score: {f1:.2%}\")"
   ]
  },
  {
   "cell_type": "code",
   "execution_count": 77,
   "metadata": {},
   "outputs": [
    {
     "name": "stdout",
     "output_type": "stream",
     "text": [
      "| Metric    |     Mean |    Std Dev |\n",
      "|:----------|---------:|-----------:|\n",
      "| Accuracy  | 0.837372 | 0.00630136 |\n",
      "| Precision | 0.844266 | 0.00526634 |\n",
      "| Recall    | 0.837372 | 0.00630136 |\n",
      "| F1-score  | 0.838431 | 0.00611599 |\n",
      "\n",
      "=== Результаты на Тесте ===\n",
      "1. Accuracy: 82.10%\n",
      "2. Precision: 82.94%\n",
      "3. Recall: 82.10%\n",
      "4. F1-score: 82.21%\n"
     ]
    }
   ],
   "source": [
    "metrics = classification_cross_validate(MyGradientBoostingClassifier, X_train_upd.to_numpy(), y_train.to_numpy(), n_folds=5, n_estimators=100, max_depth=5)\n",
    "display_metrics_classification_table(*metrics)\n",
    "\n",
    "gb = MyGradientBoostingClassifier(n_estimators=100, max_depth=5)\n",
    "gb.fit(X_train_upd, y_train)\n",
    "\n",
    "y_pred = gb.predict(X_test_upd)\n",
    "\n",
    "accuracy = accuracy_score(y_test, y_pred)\n",
    "precision = precision_score(y_test, y_pred, average='weighted')\n",
    "recall = recall_score(y_test, y_pred, average='weighted')\n",
    "f1 = f1_score(y_test, y_pred, average='weighted')\n",
    "\n",
    "# Выводим результаты\n",
    "print(\"\\n=== Результаты на Тесте ===\")\n",
    "print(f\"1. Accuracy: {accuracy:.2%}\")\n",
    "print(f\"2. Precision: {precision:.2%}\")\n",
    "print(f\"3. Recall: {recall:.2%}\")\n",
    "print(f\"4. F1-score: {f1:.2%}\")"
   ]
  },
  {
   "cell_type": "markdown",
   "metadata": {},
   "source": [
    "Результаты показывают что собственная имплементация модели в среднем работает примерно на том же уровне качества, что и модель из `sklearn`"
   ]
  },
  {
   "cell_type": "markdown",
   "metadata": {},
   "source": [
    "### Заключение"
   ]
  },
  {
   "cell_type": "markdown",
   "metadata": {},
   "source": [
    "Внесённые изменения, включая нормализацию данных и увеличение числа деревьев и уменьшение глубины в алгоритме бустинга, улучшают точность модели. Проведённые эксперименты демонстрируют, что как собственная реализация, так и применение моделей из sklearn, дают схожие результаты."
   ]
  },
  {
   "cell_type": "markdown",
   "metadata": {},
   "source": [
    "| Модель                    |      MSE  |        MAE |      $R^2$ |\n",
    "|:--------------------------|----------:|-----------:|-----------:|\n",
    "| Sklearn (до улучшения)    | 2.98e+08  | 11296.05   |  0.86      |\n",
    "| Sklearn (после улучшения) | 2.20e+08  | 10954.36   |  0.87      |\n",
    "| Собственная имплементация (до улучшения)   | 2.92e+08   | 11204.65    |  0.87      |\n",
    "| Собственная имплементация (после улучшения)| 2.835e+08  | 10920.08    |  0.87      |"
   ]
  },
  {
   "cell_type": "markdown",
   "metadata": {},
   "source": [
    "| Модель                    | Accuracy | Precision | Recall | F1-score |\n",
    "|:--------------------------|----------:|-----------:|--------:|---------:|\n",
    "| Sklearn (до улучшения)    |  82.50%   |   82.46%   |  82.50% |   82.47% |\n",
    "| Sklearn (после улучшения) |  83.60%   |   84.55%   |  83.60% |   83.55% |\n",
    "| Собственная имплементация (до улучшения)   |  81.48%   |   82.13%   |  81.48% |   81.59% |\n",
    "| Собственная имплементация (после улучшения)|  82.10%   |   82.94%   |  82.10% |   82.21% |"
   ]
  }
 ],
 "metadata": {
  "kernelspec": {
   "display_name": "labs",
   "language": "python",
   "name": "python3"
  },
  "language_info": {
   "codemirror_mode": {
    "name": "ipython",
    "version": 3
   },
   "file_extension": ".py",
   "mimetype": "text/x-python",
   "name": "python",
   "nbconvert_exporter": "python",
   "pygments_lexer": "ipython3",
   "version": "3.9.19"
  }
 },
 "nbformat": 4,
 "nbformat_minor": 2
}
