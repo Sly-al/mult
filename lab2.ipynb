{
 "cells": [
  {
   "cell_type": "markdown",
   "metadata": {},
   "source": [
    "# Лабораторная работа 2 (Linear Model)"
   ]
  },
  {
   "cell_type": "code",
   "execution_count": 1,
   "metadata": {},
   "outputs": [],
   "source": [
    "import pandas as pd\n",
    "import matplotlib.pyplot as plt\n",
    "import numpy as np\n",
    "from sklearn.model_selection import train_test_split\n",
    "from sklearn.impute import SimpleImputer\n",
    "from sklearn.preprocessing import LabelEncoder, StandardScaler, OneHotEncoder, OrdinalEncoder\n",
    "from sklearn.metrics import mean_absolute_error, mean_squared_error, r2_score, accuracy_score, precision_score, recall_score, f1_score\n",
    "from sklearn.linear_model import LinearRegression, LogisticRegression, ElasticNet\n",
    "from utils import regression_cross_validate, display_metrics_table, classification_cross_validate, display_metrics_classification_table\n"
   ]
  },
  {
   "cell_type": "markdown",
   "metadata": {},
   "source": [
    "### Regression"
   ]
  },
  {
   "cell_type": "markdown",
   "metadata": {},
   "source": [
    "#### 1. Обработка данных"
   ]
  },
  {
   "cell_type": "code",
   "execution_count": 2,
   "metadata": {},
   "outputs": [
    {
     "data": {
      "text/html": [
       "<div>\n",
       "<style scoped>\n",
       "    .dataframe tbody tr th:only-of-type {\n",
       "        vertical-align: middle;\n",
       "    }\n",
       "\n",
       "    .dataframe tbody tr th {\n",
       "        vertical-align: top;\n",
       "    }\n",
       "\n",
       "    .dataframe thead th {\n",
       "        text-align: right;\n",
       "    }\n",
       "</style>\n",
       "<table border=\"1\" class=\"dataframe\">\n",
       "  <thead>\n",
       "    <tr style=\"text-align: right;\">\n",
       "      <th></th>\n",
       "      <th>Age</th>\n",
       "      <th>Gender</th>\n",
       "      <th>Education Level</th>\n",
       "      <th>Job Title</th>\n",
       "      <th>Years of Experience</th>\n",
       "      <th>Salary</th>\n",
       "    </tr>\n",
       "  </thead>\n",
       "  <tbody>\n",
       "    <tr>\n",
       "      <th>0</th>\n",
       "      <td>32</td>\n",
       "      <td>Male</td>\n",
       "      <td>Bachelor's</td>\n",
       "      <td>Software Engineer</td>\n",
       "      <td>5.0</td>\n",
       "      <td>90000</td>\n",
       "    </tr>\n",
       "    <tr>\n",
       "      <th>1</th>\n",
       "      <td>28</td>\n",
       "      <td>Female</td>\n",
       "      <td>Master's</td>\n",
       "      <td>Data Analyst</td>\n",
       "      <td>3.0</td>\n",
       "      <td>65000</td>\n",
       "    </tr>\n",
       "    <tr>\n",
       "      <th>2</th>\n",
       "      <td>45</td>\n",
       "      <td>Male</td>\n",
       "      <td>PhD</td>\n",
       "      <td>Senior Manager</td>\n",
       "      <td>15.0</td>\n",
       "      <td>150000</td>\n",
       "    </tr>\n",
       "    <tr>\n",
       "      <th>3</th>\n",
       "      <td>36</td>\n",
       "      <td>Female</td>\n",
       "      <td>Bachelor's</td>\n",
       "      <td>Sales Associate</td>\n",
       "      <td>7.0</td>\n",
       "      <td>60000</td>\n",
       "    </tr>\n",
       "    <tr>\n",
       "      <th>4</th>\n",
       "      <td>52</td>\n",
       "      <td>Male</td>\n",
       "      <td>Master's</td>\n",
       "      <td>Director</td>\n",
       "      <td>20.0</td>\n",
       "      <td>200000</td>\n",
       "    </tr>\n",
       "  </tbody>\n",
       "</table>\n",
       "</div>"
      ],
      "text/plain": [
       "   Age  Gender Education Level          Job Title  Years of Experience  Salary\n",
       "0   32    Male      Bachelor's  Software Engineer                  5.0   90000\n",
       "1   28  Female        Master's       Data Analyst                  3.0   65000\n",
       "2   45    Male             PhD     Senior Manager                 15.0  150000\n",
       "3   36  Female      Bachelor's    Sales Associate                  7.0   60000\n",
       "4   52    Male        Master's           Director                 20.0  200000"
      ]
     },
     "execution_count": 2,
     "metadata": {},
     "output_type": "execute_result"
    }
   ],
   "source": [
    "df = pd.read_csv('data/Salary_Data.csv')\n",
    "df.head()"
   ]
  },
  {
   "cell_type": "code",
   "execution_count": 3,
   "metadata": {},
   "outputs": [],
   "source": [
    "X, y = df.drop(columns=['Salary', 'Job Title']), df['Salary']\n",
    "\n",
    "X_train, X_test, y_train, y_test = train_test_split(X, y, random_state=42)\n",
    "\n",
    "# X_train, y_train = X, y\n",
    "\n",
    "gender_le = LabelEncoder()\n",
    "el_le = LabelEncoder()\n",
    "\n",
    "X_train['Gender'] = gender_le.fit_transform(X_train['Gender'])\n",
    "X_test['Gender'] = gender_le.transform(X_test['Gender'])\n",
    "\n",
    "X_train['Education Level'] = el_le.fit_transform(X_train['Education Level'])\n",
    "X_test['Education Level'] = el_le.transform(X_test['Education Level'])"
   ]
  },
  {
   "cell_type": "markdown",
   "metadata": {},
   "source": [
    "#### 2. Построение бейзлайна "
   ]
  },
  {
   "cell_type": "markdown",
   "metadata": {},
   "source": [
    "Для оценки модели будем использовать метод кросс валидации, который позволяет более качественно оценить полученные метрики."
   ]
  },
  {
   "cell_type": "code",
   "execution_count": 4,
   "metadata": {},
   "outputs": [
    {
     "name": "stdout",
     "output_type": "stream",
     "text": [
      "| Metric   |          Mean |       Std Dev |\n",
      "|:---------|--------------:|--------------:|\n",
      "| MAE      | 11624.6       | 971.068       |\n",
      "| MSE      |     2.412e+08 |   2.89352e+07 |\n",
      "| R2       |     0.896435  |   0.0126421   |\n",
      "\n",
      "=== Результаты на Тесте ===\n",
      "Среднеквадратичная ошибка (MSE): 243261993.36\n",
      "Средняя абсолютная ошибка (MAE): 10956.04\n",
      "Коэффициент детерминации (R^2): 0.89\n"
     ]
    }
   ],
   "source": [
    "metrics = regression_cross_validate(LinearRegression, X_train.to_numpy(), y_train.to_numpy(), n_folds=5)\n",
    "display_metrics_table(*metrics)\n",
    "\n",
    "linear_model = LinearRegression()\n",
    "linear_model.fit(X_train, y_train)\n",
    "\n",
    "y_pred = linear_model.predict(X_test)\n",
    "\n",
    "# Метрики\n",
    "mse = mean_squared_error(y_test, y_pred)\n",
    "mae = mean_absolute_error(y_test, y_pred)\n",
    "r2 = r2_score(y_test, y_pred)\n",
    "\n",
    "# Вывод метрик\n",
    "print(\"\\n=== Результаты на Тесте ===\")\n",
    "print(f\"Среднеквадратичная ошибка (MSE): {mse:.2f}\")\n",
    "print(f\"Средняя абсолютная ошибка (MAE): {mae:.2f}\")\n",
    "print(f\"Коэффициент детерминации (R^2): {r2:.2f}\")"
   ]
  },
  {
   "cell_type": "markdown",
   "metadata": {},
   "source": [
    "Как можем увидеть значение метрики $R^2$ около 0.89, что означает что около 89% дисперсии данных объясняется моделью."
   ]
  },
  {
   "cell_type": "markdown",
   "metadata": {},
   "source": [
    "#### 3. Формулировка гипотез"
   ]
  },
  {
   "cell_type": "markdown",
   "metadata": {},
   "source": [
    "Сформулируем несколько гипотез, которые могут помочь улучшить качество модели\n",
    "\n",
    "1) Поменять Encoder категориальных признаков с `LabelEncoder` на `OneHotEncoder`\n",
    "2) Отмасштабировать численные признаки\n",
    "3) Добавить регуляризацию"
   ]
  },
  {
   "cell_type": "code",
   "execution_count": 5,
   "metadata": {},
   "outputs": [],
   "source": [
    "onehot = OneHotEncoder(sparse_output=False, drop='first')\n",
    "\n",
    "categorical_features = ['Gender', 'Education Level']\n",
    "\n",
    "encoded_train_data = onehot.fit_transform(X_train[categorical_features])\n",
    "encoded_test_data = onehot.transform(X_test[categorical_features])\n",
    "\n",
    "encoded_df = pd.DataFrame(encoded_train_data, columns=onehot.get_feature_names_out(categorical_features))\n",
    "X_train_upd = X_train.drop(columns=categorical_features).reset_index(drop=True)\n",
    "X_train_upd = pd.concat([X_train_upd, encoded_df], axis=1)\n",
    "\n",
    "encoded_df = pd.DataFrame(encoded_test_data, columns=onehot.get_feature_names_out(categorical_features))\n",
    "X_test_upd = X_test.drop(columns=categorical_features).reset_index(drop=True)\n",
    "X_test_upd = pd.concat([X_test_upd, encoded_df], axis=1)\n",
    "\n",
    "\n",
    "scaler = StandardScaler()\n",
    "num_features = ['Age', 'Years of Experience']\n",
    "X_train_upd[num_features] = scaler.fit_transform(X_train[num_features])\n",
    "X_test_upd[num_features] = scaler.transform(X_test[num_features])"
   ]
  },
  {
   "cell_type": "code",
   "execution_count": 6,
   "metadata": {},
   "outputs": [
    {
     "name": "stdout",
     "output_type": "stream",
     "text": [
      "| Metric   |            Mean |       Std Dev |\n",
      "|:---------|----------------:|--------------:|\n",
      "| MAE      | 11166.3         | 775.32        |\n",
      "| MSE      |     2.34823e+08 |   2.87383e+07 |\n",
      "| R2       |     0.899254    |   0.0120659   |\n",
      "\n",
      "=== Результаты на Тесте ===\n",
      "Среднеквадратичная ошибка (MSE): 238966602.60\n",
      "Средняя абсолютная ошибка (MAE): 10865.15\n",
      "Коэффициент детерминации (R^2): 0.89\n"
     ]
    }
   ],
   "source": [
    "metrics = regression_cross_validate(ElasticNet, X_train_upd.to_numpy(), y_train.to_numpy(), n_folds=5, alpha=0.01, l1_ratio=0.7)\n",
    "display_metrics_table(*metrics)\n",
    "\n",
    "linear_model = ElasticNet(alpha=0.01, l1_ratio=0.7)\n",
    "linear_model.fit(X_train_upd, y_train)\n",
    "\n",
    "y_pred = linear_model.predict(X_test_upd)\n",
    "\n",
    "# Метрики\n",
    "mse = mean_squared_error(y_test, y_pred)\n",
    "mae = mean_absolute_error(y_test, y_pred)\n",
    "r2 = r2_score(y_test, y_pred)\n",
    "\n",
    "# Вывод метрик\n",
    "print(\"\\n=== Результаты на Тесте ===\")\n",
    "print(f\"Среднеквадратичная ошибка (MSE): {mse:.2f}\")\n",
    "print(f\"Средняя абсолютная ошибка (MAE): {mae:.2f}\")\n",
    "print(f\"Коэффициент детерминации (R^2): {r2:.2f}\")"
   ]
  },
  {
   "cell_type": "markdown",
   "metadata": {},
   "source": [
    "Можно увидеть, что в целом значения метрик улучшились, хоть и не совсем значительно. Результаты на тестовой выборке также показывают приросты."
   ]
  },
  {
   "cell_type": "markdown",
   "metadata": {},
   "source": [
    "#### 4. Реализация своего класса"
   ]
  },
  {
   "cell_type": "code",
   "execution_count": 7,
   "metadata": {},
   "outputs": [],
   "source": [
    "class MyElasticNet:\n",
    "    def __init__(self, alpha=1.0, l1_ratio=0.5, max_iter=1000, tol=1e-4):\n",
    "        self.alpha = alpha\n",
    "        self.l1_ratio = l1_ratio\n",
    "        self.max_iter = max_iter\n",
    "        self.tol = tol\n",
    "        self.coef_ = None\n",
    "        self.intercept_ = None\n",
    "\n",
    "    def fit(self, X, y):\n",
    "        X = np.array(X)\n",
    "        y = np.array(y)\n",
    "\n",
    "        X_train_with_bias = np.c_[np.ones(X.shape[0]), X]\n",
    "        self.coef_ = np.linalg.inv(X_train_with_bias.T @ X_train_with_bias) @ X_train_with_bias.T @ y\n",
    "\n",
    "        l1_penalty = self.alpha * self.l1_ratio * np.sign(self.coef_)\n",
    "        l2_penalty = self.alpha * (1 - self.l1_ratio) * self.coef_\n",
    "\n",
    "        self.coef_ -= l1_penalty + l2_penalty\n",
    "\n",
    "\n",
    "    def predict(self, X):\n",
    "        X = np.array(X)\n",
    "        X_test_with_bias = np.c_[np.ones(X.shape[0]), X]\n",
    "\n",
    "        return X_test_with_bias @ self.coef_\n",
    "\n"
   ]
  },
  {
   "cell_type": "code",
   "execution_count": 8,
   "metadata": {},
   "outputs": [
    {
     "name": "stdout",
     "output_type": "stream",
     "text": [
      "| Metric   |          Mean |       Std Dev |\n",
      "|:---------|--------------:|--------------:|\n",
      "| MAE      | 11624.6       | 971.068       |\n",
      "| MSE      |     2.412e+08 |   2.89352e+07 |\n",
      "| R2       |     0.896435  |   0.0126421   |\n",
      "\n",
      "=== Результаты на Тесте ===\n",
      "Среднеквадратичная ошибка (MSE): 243261993.36\n",
      "Средняя абсолютная ошибка (MAE): 10956.04\n",
      "Коэффициент детерминации (R^2): 0.89\n"
     ]
    }
   ],
   "source": [
    "metrics = regression_cross_validate(MyElasticNet, X_train.to_numpy(), y_train.to_numpy(), n_folds=5, alpha=0, l1_ratio=0)\n",
    "display_metrics_table(*metrics)\n",
    "\n",
    "linear_model = MyElasticNet(alpha=0, l1_ratio=0)\n",
    "linear_model.fit(X_train, y_train)\n",
    "\n",
    "y_pred = linear_model.predict(X_test)\n",
    "\n",
    "# Метрики\n",
    "mse = mean_squared_error(y_test, y_pred)\n",
    "mae = mean_absolute_error(y_test, y_pred)\n",
    "r2 = r2_score(y_test, y_pred)\n",
    "\n",
    "# Вывод метрик\n",
    "print(\"\\n=== Результаты на Тесте ===\")\n",
    "print(f\"Среднеквадратичная ошибка (MSE): {mse:.2f}\")\n",
    "print(f\"Средняя абсолютная ошибка (MAE): {mae:.2f}\")\n",
    "print(f\"Коэффициент детерминации (R^2): {r2:.2f}\")"
   ]
  },
  {
   "cell_type": "code",
   "execution_count": 9,
   "metadata": {},
   "outputs": [
    {
     "name": "stdout",
     "output_type": "stream",
     "text": [
      "| Metric   |            Mean |       Std Dev |\n",
      "|:---------|----------------:|--------------:|\n",
      "| MAE      | 11214.5         | 779.008       |\n",
      "| MSE      |     2.35034e+08 |   2.94154e+07 |\n",
      "| R2       |     0.899061    |   0.0133104   |\n",
      "\n",
      "=== Результаты на Тесте ===\n",
      "Среднеквадратичная ошибка (MSE): 241968124.33\n",
      "Средняя абсолютная ошибка (MAE): 10953.61\n",
      "Коэффициент детерминации (R^2): 0.89\n"
     ]
    }
   ],
   "source": [
    "metrics = regression_cross_validate(MyElasticNet, X_train_upd.to_numpy(), y_train.to_numpy(), n_folds=5, alpha=0.01, l1_ratio=0.7)\n",
    "display_metrics_table(*metrics)\n",
    "\n",
    "linear_model = MyElasticNet(alpha=0.01, l1_ratio=0.7)\n",
    "linear_model.fit(X_train_upd, y_train)\n",
    "\n",
    "y_pred = linear_model.predict(X_test_upd)\n",
    "\n",
    "# Метрики\n",
    "mse = mean_squared_error(y_test, y_pred)\n",
    "mae = mean_absolute_error(y_test, y_pred)\n",
    "r2 = r2_score(y_test, y_pred)\n",
    "\n",
    "# Вывод метрик\n",
    "print(\"\\n=== Результаты на Тесте ===\")\n",
    "print(f\"Среднеквадратичная ошибка (MSE): {mse:.2f}\")\n",
    "print(f\"Средняя абсолютная ошибка (MAE): {mae:.2f}\")\n",
    "print(f\"Коэффициент детерминации (R^2): {r2:.2f}\")"
   ]
  },
  {
   "cell_type": "markdown",
   "metadata": {},
   "source": [
    "Результаты показывают что собственная имплементация модели в среднем работает на том же уровне качества, что и модель из `sklearn`"
   ]
  },
  {
   "cell_type": "markdown",
   "metadata": {},
   "source": [
    "### Classification"
   ]
  },
  {
   "cell_type": "markdown",
   "metadata": {},
   "source": [
    "#### 1. Обработка данных"
   ]
  },
  {
   "cell_type": "code",
   "execution_count": 10,
   "metadata": {},
   "outputs": [
    {
     "data": {
      "text/html": [
       "<div>\n",
       "<style scoped>\n",
       "    .dataframe tbody tr th:only-of-type {\n",
       "        vertical-align: middle;\n",
       "    }\n",
       "\n",
       "    .dataframe tbody tr th {\n",
       "        vertical-align: top;\n",
       "    }\n",
       "\n",
       "    .dataframe thead th {\n",
       "        text-align: right;\n",
       "    }\n",
       "</style>\n",
       "<table border=\"1\" class=\"dataframe\">\n",
       "  <thead>\n",
       "    <tr style=\"text-align: right;\">\n",
       "      <th></th>\n",
       "      <th>id</th>\n",
       "      <th>Gender</th>\n",
       "      <th>Age</th>\n",
       "      <th>City</th>\n",
       "      <th>Profession</th>\n",
       "      <th>Academic Pressure</th>\n",
       "      <th>Work Pressure</th>\n",
       "      <th>CGPA</th>\n",
       "      <th>Study Satisfaction</th>\n",
       "      <th>Job Satisfaction</th>\n",
       "      <th>Sleep Duration</th>\n",
       "      <th>Dietary Habits</th>\n",
       "      <th>Degree</th>\n",
       "      <th>Have you ever had suicidal thoughts ?</th>\n",
       "      <th>Work/Study Hours</th>\n",
       "      <th>Financial Stress</th>\n",
       "      <th>Family History of Mental Illness</th>\n",
       "      <th>Depression</th>\n",
       "    </tr>\n",
       "  </thead>\n",
       "  <tbody>\n",
       "    <tr>\n",
       "      <th>0</th>\n",
       "      <td>2</td>\n",
       "      <td>Male</td>\n",
       "      <td>33.0</td>\n",
       "      <td>Visakhapatnam</td>\n",
       "      <td>Student</td>\n",
       "      <td>5.0</td>\n",
       "      <td>0.0</td>\n",
       "      <td>8.97</td>\n",
       "      <td>2.0</td>\n",
       "      <td>0.0</td>\n",
       "      <td>5-6 hours</td>\n",
       "      <td>Healthy</td>\n",
       "      <td>B.Pharm</td>\n",
       "      <td>Yes</td>\n",
       "      <td>3.0</td>\n",
       "      <td>1.0</td>\n",
       "      <td>No</td>\n",
       "      <td>1</td>\n",
       "    </tr>\n",
       "    <tr>\n",
       "      <th>1</th>\n",
       "      <td>8</td>\n",
       "      <td>Female</td>\n",
       "      <td>24.0</td>\n",
       "      <td>Bangalore</td>\n",
       "      <td>Student</td>\n",
       "      <td>2.0</td>\n",
       "      <td>0.0</td>\n",
       "      <td>5.90</td>\n",
       "      <td>5.0</td>\n",
       "      <td>0.0</td>\n",
       "      <td>5-6 hours</td>\n",
       "      <td>Moderate</td>\n",
       "      <td>BSc</td>\n",
       "      <td>No</td>\n",
       "      <td>3.0</td>\n",
       "      <td>2.0</td>\n",
       "      <td>Yes</td>\n",
       "      <td>0</td>\n",
       "    </tr>\n",
       "    <tr>\n",
       "      <th>2</th>\n",
       "      <td>26</td>\n",
       "      <td>Male</td>\n",
       "      <td>31.0</td>\n",
       "      <td>Srinagar</td>\n",
       "      <td>Student</td>\n",
       "      <td>3.0</td>\n",
       "      <td>0.0</td>\n",
       "      <td>7.03</td>\n",
       "      <td>5.0</td>\n",
       "      <td>0.0</td>\n",
       "      <td>Less than 5 hours</td>\n",
       "      <td>Healthy</td>\n",
       "      <td>BA</td>\n",
       "      <td>No</td>\n",
       "      <td>9.0</td>\n",
       "      <td>1.0</td>\n",
       "      <td>Yes</td>\n",
       "      <td>0</td>\n",
       "    </tr>\n",
       "    <tr>\n",
       "      <th>3</th>\n",
       "      <td>30</td>\n",
       "      <td>Female</td>\n",
       "      <td>28.0</td>\n",
       "      <td>Varanasi</td>\n",
       "      <td>Student</td>\n",
       "      <td>3.0</td>\n",
       "      <td>0.0</td>\n",
       "      <td>5.59</td>\n",
       "      <td>2.0</td>\n",
       "      <td>0.0</td>\n",
       "      <td>7-8 hours</td>\n",
       "      <td>Moderate</td>\n",
       "      <td>BCA</td>\n",
       "      <td>Yes</td>\n",
       "      <td>4.0</td>\n",
       "      <td>5.0</td>\n",
       "      <td>Yes</td>\n",
       "      <td>1</td>\n",
       "    </tr>\n",
       "    <tr>\n",
       "      <th>4</th>\n",
       "      <td>32</td>\n",
       "      <td>Female</td>\n",
       "      <td>25.0</td>\n",
       "      <td>Jaipur</td>\n",
       "      <td>Student</td>\n",
       "      <td>4.0</td>\n",
       "      <td>0.0</td>\n",
       "      <td>8.13</td>\n",
       "      <td>3.0</td>\n",
       "      <td>0.0</td>\n",
       "      <td>5-6 hours</td>\n",
       "      <td>Moderate</td>\n",
       "      <td>M.Tech</td>\n",
       "      <td>Yes</td>\n",
       "      <td>1.0</td>\n",
       "      <td>1.0</td>\n",
       "      <td>No</td>\n",
       "      <td>0</td>\n",
       "    </tr>\n",
       "  </tbody>\n",
       "</table>\n",
       "</div>"
      ],
      "text/plain": [
       "   id  Gender   Age           City Profession  Academic Pressure  \\\n",
       "0   2    Male  33.0  Visakhapatnam    Student                5.0   \n",
       "1   8  Female  24.0      Bangalore    Student                2.0   \n",
       "2  26    Male  31.0       Srinagar    Student                3.0   \n",
       "3  30  Female  28.0       Varanasi    Student                3.0   \n",
       "4  32  Female  25.0         Jaipur    Student                4.0   \n",
       "\n",
       "   Work Pressure  CGPA  Study Satisfaction  Job Satisfaction  \\\n",
       "0            0.0  8.97                 2.0               0.0   \n",
       "1            0.0  5.90                 5.0               0.0   \n",
       "2            0.0  7.03                 5.0               0.0   \n",
       "3            0.0  5.59                 2.0               0.0   \n",
       "4            0.0  8.13                 3.0               0.0   \n",
       "\n",
       "      Sleep Duration Dietary Habits   Degree  \\\n",
       "0          5-6 hours        Healthy  B.Pharm   \n",
       "1          5-6 hours       Moderate      BSc   \n",
       "2  Less than 5 hours        Healthy       BA   \n",
       "3          7-8 hours       Moderate      BCA   \n",
       "4          5-6 hours       Moderate   M.Tech   \n",
       "\n",
       "  Have you ever had suicidal thoughts ?  Work/Study Hours  Financial Stress  \\\n",
       "0                                   Yes               3.0               1.0   \n",
       "1                                    No               3.0               2.0   \n",
       "2                                    No               9.0               1.0   \n",
       "3                                   Yes               4.0               5.0   \n",
       "4                                   Yes               1.0               1.0   \n",
       "\n",
       "  Family History of Mental Illness  Depression  \n",
       "0                               No           1  \n",
       "1                              Yes           0  \n",
       "2                              Yes           0  \n",
       "3                              Yes           1  \n",
       "4                               No           0  "
      ]
     },
     "execution_count": 10,
     "metadata": {},
     "output_type": "execute_result"
    }
   ],
   "source": [
    "df = pd.read_csv('data/Student_Depression_Dataset.csv')\n",
    "df.head()"
   ]
  },
  {
   "cell_type": "code",
   "execution_count": 11,
   "metadata": {},
   "outputs": [],
   "source": [
    "X, y = df.drop(columns=['Depression', 'id']), df['Depression']\n",
    "\n",
    "X_train, X_test, y_train, y_test = train_test_split(X, y, random_state=42)\n",
    "\n",
    "categorical_features = ['Gender', 'City', 'Profession', 'Sleep Duration', 'Dietary Habits', 'Degree', 'Have you ever had suicidal thoughts ?', 'Family History of Mental Illness']\n",
    "num_features = ['Age', 'Academic Pressure', 'Work Pressure', 'CGPA', 'Study Satisfaction', 'Job Satisfaction', 'Work/Study Hours', 'Financial Stress', ]\n",
    "\n",
    "le = OrdinalEncoder(handle_unknown='use_encoded_value',\n",
    "                    unknown_value=99)\n",
    "\n",
    "X_train[categorical_features] = le.fit_transform(X_train[categorical_features])\n",
    "X_test[categorical_features] = le.transform(X_test[categorical_features])\n",
    "\n",
    "imputer = SimpleImputer(strategy='most_frequent') \n",
    "X_train = pd.DataFrame(imputer.fit_transform(X_train), columns=X_train.columns)\n",
    "X_test = pd.DataFrame(imputer.transform(X_test), columns=X_test.columns)"
   ]
  },
  {
   "cell_type": "markdown",
   "metadata": {},
   "source": [
    "#### 2. Построение бейзлайна "
   ]
  },
  {
   "cell_type": "code",
   "execution_count": 12,
   "metadata": {},
   "outputs": [
    {
     "name": "stdout",
     "output_type": "stream",
     "text": [
      "| Metric    |     Mean |    Std Dev |\n",
      "|:----------|---------:|-----------:|\n",
      "| Accuracy  | 0.847981 | 0.00621524 |\n",
      "| Precision | 0.847526 | 0.00632844 |\n",
      "| Recall    | 0.847981 | 0.00621524 |\n",
      "| F1-score  | 0.847349 | 0.0062273  |\n",
      "\n",
      "=== Результаты на Тесте ===\n",
      "1. Accuracy: 83.86%\n",
      "2. Precision: 83.81%\n",
      "3. Recall: 83.86%\n",
      "4. F1-score: 83.82%\n"
     ]
    }
   ],
   "source": [
    "metrics = classification_cross_validate(LogisticRegression, X_train.to_numpy(), y_train.to_numpy(), n_folds=5, max_iter=1000)\n",
    "display_metrics_classification_table(*metrics)\n",
    "\n",
    "linear_model = LogisticRegression(max_iter=1000)  # Выбираем количество соседей\n",
    "linear_model.fit(X_train, y_train)\n",
    "\n",
    "y_pred = linear_model.predict(X_test)\n",
    "\n",
    "accuracy = accuracy_score(y_test, y_pred)\n",
    "precision = precision_score(y_test, y_pred, average='weighted')\n",
    "recall = recall_score(y_test, y_pred, average='weighted')\n",
    "f1 = f1_score(y_test, y_pred, average='weighted')\n",
    "\n",
    "# Выводим результаты\n",
    "print(\"\\n=== Результаты на Тесте ===\")\n",
    "print(f\"1. Accuracy: {accuracy:.2%}\")\n",
    "print(f\"2. Precision: {precision:.2%}\")\n",
    "print(f\"3. Recall: {recall:.2%}\")\n",
    "print(f\"4. F1-score: {f1:.2%}\")"
   ]
  },
  {
   "cell_type": "markdown",
   "metadata": {},
   "source": [
    "#### 3. Формулировка гипотез"
   ]
  },
  {
   "cell_type": "markdown",
   "metadata": {},
   "source": [
    "Сформулируем несколько гипотез, которые могут помочь улучшить качество модели\n",
    "\n",
    "1) Поменять Encoder категориальных признаков с `LabelEncoder` на `OneHotEncoder`\n",
    "2) Отмасштабировать численные признаки\n",
    "3) Добавить регуляризацию"
   ]
  },
  {
   "cell_type": "code",
   "execution_count": 13,
   "metadata": {},
   "outputs": [
    {
     "name": "stderr",
     "output_type": "stream",
     "text": [
      "/home/constantfear/.pyenv/versions/3.9.19/envs/labs/lib/python3.9/site-packages/sklearn/preprocessing/_encoders.py:242: UserWarning: Found unknown categories in columns [1, 2] during transform. These unknown categories will be encoded as all zeros\n",
      "  warnings.warn(\n"
     ]
    }
   ],
   "source": [
    "onehot = OneHotEncoder(sparse_output=False, drop='first', handle_unknown='ignore')\n",
    "\n",
    "encoded_train_data = onehot.fit_transform(X_train[categorical_features])\n",
    "encoded_test_data = onehot.transform(X_test[categorical_features])\n",
    "\n",
    "encoded_df = pd.DataFrame(encoded_train_data, columns=onehot.get_feature_names_out(categorical_features))\n",
    "X_train_upd = X_train.drop(columns=categorical_features).reset_index(drop=True)\n",
    "X_train_upd = pd.concat([X_train_upd, encoded_df], axis=1)\n",
    "\n",
    "encoded_df = pd.DataFrame(encoded_test_data, columns=onehot.get_feature_names_out(categorical_features))\n",
    "X_test_upd = X_test.drop(columns=categorical_features).reset_index(drop=True)\n",
    "X_test_upd = pd.concat([X_test_upd, encoded_df], axis=1)\n",
    "\n",
    "\n",
    "scaler = StandardScaler()\n",
    "X_train_upd[num_features] = scaler.fit_transform(X_train[num_features])\n",
    "X_test_upd[num_features] = scaler.transform(X_test[num_features])"
   ]
  },
  {
   "cell_type": "code",
   "execution_count": 14,
   "metadata": {},
   "outputs": [
    {
     "name": "stdout",
     "output_type": "stream",
     "text": [
      "| Metric    |     Mean |    Std Dev |\n",
      "|:----------|---------:|-----------:|\n",
      "| Accuracy  | 0.850848 | 0.00602302 |\n",
      "| Precision | 0.850436 | 0.00615489 |\n",
      "| Recall    | 0.850848 | 0.00602302 |\n",
      "| F1-score  | 0.850196 | 0.0060759  |\n",
      "\n",
      "=== Результаты на Тесте ===\n",
      "1. Accuracy: 83.99%\n",
      "2. Precision: 83.94%\n",
      "3. Recall: 83.99%\n",
      "4. F1-score: 83.94%\n"
     ]
    }
   ],
   "source": [
    "metrics = classification_cross_validate(LogisticRegression, X_train_upd.to_numpy(), y_train.to_numpy(), n_folds=5, C=0.1, max_iter=1000)\n",
    "display_metrics_classification_table(*metrics)\n",
    "\n",
    "linear_model = LogisticRegression(C=0.1, max_iter=1000)  \n",
    "linear_model.fit(X_train_upd, y_train)\n",
    "\n",
    "y_pred = linear_model.predict(X_test_upd)\n",
    "\n",
    "accuracy = accuracy_score(y_test, y_pred)\n",
    "precision = precision_score(y_test, y_pred, average='weighted')\n",
    "recall = recall_score(y_test, y_pred, average='weighted')\n",
    "f1 = f1_score(y_test, y_pred, average='weighted')\n",
    "\n",
    "# Выводим результаты\n",
    "print(\"\\n=== Результаты на Тесте ===\")\n",
    "print(f\"1. Accuracy: {accuracy:.2%}\")\n",
    "print(f\"2. Precision: {precision:.2%}\")\n",
    "print(f\"3. Recall: {recall:.2%}\")\n",
    "print(f\"4. F1-score: {f1:.2%}\")"
   ]
  },
  {
   "cell_type": "markdown",
   "metadata": {},
   "source": [
    "Можно увидеть что в среднем значения метрик улучшились. \n",
    "Результаты на тестовой выборке также показывают приросты."
   ]
  },
  {
   "cell_type": "markdown",
   "metadata": {},
   "source": [
    "#### 4. Реализация своего класса"
   ]
  },
  {
   "cell_type": "code",
   "execution_count": 15,
   "metadata": {},
   "outputs": [],
   "source": [
    "class MyLogisticRegression:\n",
    "    def __init__(self, C=0, learning_rate=0.01, n_iterations=1000):\n",
    "        self.C = C\n",
    "        self.learning_rate = learning_rate\n",
    "        self.n_iterations = n_iterations\n",
    "        self.weights = None\n",
    "        self.bias = None\n",
    "\n",
    "    def sigmoid(self, z):\n",
    "        return 1 / (1 + np.exp(-z))\n",
    "\n",
    "    def fit(self, X, y):\n",
    "        n_samples, n_features = X.shape\n",
    "        self.weights = np.zeros(n_features)\n",
    "        self.bias = 0\n",
    "\n",
    "        for _ in range(self.n_iterations):\n",
    "            linear_model = np.dot(X, self.weights) + self.bias\n",
    "            predictions = self.sigmoid(linear_model)\n",
    "            if self.C != 0:\n",
    "                dw = (1 / n_samples) * np.dot(X.T, (predictions - y)) + (1 / (self.C * n_samples)) * self.weights\n",
    "            else:\n",
    "                dw = (1 / n_samples) * np.dot(X.T, (predictions - y))\n",
    "            db = (1 / n_samples) * np.sum(predictions - y)\n",
    "\n",
    "            self.weights -= self.learning_rate * dw\n",
    "            self.bias -= self.learning_rate * db\n",
    "\n",
    "    def predict(self, X):\n",
    "        linear_model = np.dot(X, self.weights) + self.bias\n",
    "        predictions = self.sigmoid(linear_model)\n",
    "        return np.where(predictions >= 0.5, 1, 0)"
   ]
  },
  {
   "cell_type": "code",
   "execution_count": null,
   "metadata": {},
   "outputs": [
    {
     "name": "stdout",
     "output_type": "stream",
     "text": [
      "| Metric    |     Mean |    Std Dev |\n",
      "|:----------|---------:|-----------:|\n",
      "| Accuracy  | 0.778829 | 0.00819507 |\n",
      "| Precision | 0.808734 | 0.0085782  |\n",
      "| Recall    | 0.778829 | 0.00819507 |\n",
      "| F1-score  | 0.780033 | 0.0081312  |\n",
      "\n",
      "=== Результаты на Тесте ===\n",
      "1. Accuracy: 76.72%\n",
      "2. Precision: 79.77%\n",
      "3. Recall: 76.72%\n",
      "4. F1-score: 76.81%\n"
     ]
    }
   ],
   "source": [
    "metrics = classification_cross_validate(MyLogisticRegression, X_train.to_numpy(), y_train.to_numpy(), n_folds=5, n_iterations=1000)\n",
    "display_metrics_classification_table(*metrics)\n",
    "\n",
    "linear_model = MyLogisticRegression(n_iterations=1000)\n",
    "linear_model.fit(X_train, y_train)\n",
    "\n",
    "y_pred = linear_model.predict(X_test)\n",
    "\n",
    "accuracy = accuracy_score(y_test, y_pred)\n",
    "precision = precision_score(y_test, y_pred, average='weighted')\n",
    "recall = recall_score(y_test, y_pred, average='weighted')\n",
    "f1 = f1_score(y_test, y_pred, average='weighted')\n",
    "\n",
    "# Выводим результаты\n",
    "print(\"\\n=== Результаты на Тесте ===\")\n",
    "print(f\"1. Accuracy: {accuracy:.2%}\")\n",
    "print(f\"2. Precision: {precision:.2%}\")\n",
    "print(f\"3. Recall: {recall:.2%}\")\n",
    "print(f\"4. F1-score: {f1:.2%}\")"
   ]
  },
  {
   "cell_type": "code",
   "execution_count": 17,
   "metadata": {},
   "outputs": [
    {
     "name": "stdout",
     "output_type": "stream",
     "text": [
      "| Metric    |     Mean |    Std Dev |\n",
      "|:----------|---------:|-----------:|\n",
      "| Accuracy  | 0.831493 | 0.00640525 |\n",
      "| Precision | 0.832139 | 0.006106   |\n",
      "| Recall    | 0.831493 | 0.00640525 |\n",
      "| F1-score  | 0.829389 | 0.00678642 |\n",
      "\n",
      "=== Результаты на Тесте ===\n",
      "1. Accuracy: 82.07%\n",
      "2. Precision: 82.08%\n",
      "3. Recall: 82.07%\n",
      "4. F1-score: 81.88%\n"
     ]
    }
   ],
   "source": [
    "metrics = classification_cross_validate(MyLogisticRegression, X_train_upd.to_numpy(), y_train.to_numpy(), n_folds=5, C=0, n_iterations=1000)\n",
    "display_metrics_classification_table(*metrics)\n",
    "\n",
    "linear_model = MyLogisticRegression(C=0.1, n_iterations=1000)  \n",
    "linear_model.fit(X_train_upd, y_train)\n",
    "\n",
    "y_pred = linear_model.predict(X_test_upd)\n",
    "\n",
    "accuracy = accuracy_score(y_test, y_pred)\n",
    "precision = precision_score(y_test, y_pred, average='weighted')\n",
    "recall = recall_score(y_test, y_pred, average='weighted')\n",
    "f1 = f1_score(y_test, y_pred, average='weighted')\n",
    "\n",
    "# Выводим результаты\n",
    "print(\"\\n=== Результаты на Тесте ===\")\n",
    "print(f\"1. Accuracy: {accuracy:.2%}\")\n",
    "print(f\"2. Precision: {precision:.2%}\")\n",
    "print(f\"3. Recall: {recall:.2%}\")\n",
    "print(f\"4. F1-score: {f1:.2%}\")"
   ]
  },
  {
   "cell_type": "markdown",
   "metadata": {},
   "source": [
    "Результаты показывают что собственная имплементация модели оказалась немного хуже по качеству, чем модель из `sklearn`, но с ростом числа итераций метрики сближаются (но при этом растет время обучение модели)"
   ]
  },
  {
   "cell_type": "markdown",
   "metadata": {},
   "source": [
    "### Заключение"
   ]
  },
  {
   "cell_type": "markdown",
   "metadata": {},
   "source": [
    "Внесённые изменения, включая нормализацию данных и добавление регуляризации в алгоритм, улучшают точность модели. Проведённые эксперименты демонстрируют, что как собственная реализация, так и применение моделей из sklearn, дают схожие результаты."
   ]
  },
  {
   "cell_type": "markdown",
   "metadata": {},
   "source": [
    "| Модель                    |      MSE  |        MAE |      $R^2$ |\n",
    "|:--------------------------|----------:|-----------:|-----------:|\n",
    "| Sklearn (до улучшения)    | 2.43e+08  | 10956.04   |  0.89      |\n",
    "| Sklearn (после улучшения) | 2.38e+08  | 10865.15   |  0.89      |\n",
    "| Собственная имплементация (до улучшения)   | 2.43e+08   | 10956.04    |  0.89      |\n",
    "| Собственная имплементация (после улучшения)| 2.419e+08  | 10953.61    |  0.89      |"
   ]
  },
  {
   "cell_type": "markdown",
   "metadata": {},
   "source": [
    "| Модель                    |  Accuracy |  Precision |     Recall |    F1-score |\n",
    "|:--------------------------|----------:|-----------:|-----------:|-----------:|\n",
    "| Sklearn (до улучшения)    |   83.86%  |   83.81%   |  83.86%    |  83.82%    |\n",
    "| Sklearn (после улучшения) |   83.99%  |   83.94%   |  83.99%    |  83.94%    |\n",
    "| Собственная имплементация (до улучшения)   |   76.72%  |   76.77%   |  76.72%    |  76.81%    |\n",
    "| Собственная имплементация (после улучшения)|   82.07%  |   82.08%   |  82.07%    |  81.88%    |"
   ]
  }
 ],
 "metadata": {
  "kernelspec": {
   "display_name": "labs",
   "language": "python",
   "name": "python3"
  },
  "language_info": {
   "codemirror_mode": {
    "name": "ipython",
    "version": 3
   },
   "file_extension": ".py",
   "mimetype": "text/x-python",
   "name": "python",
   "nbconvert_exporter": "python",
   "pygments_lexer": "ipython3",
   "version": "3.9.19"
  }
 },
 "nbformat": 4,
 "nbformat_minor": 2
}
