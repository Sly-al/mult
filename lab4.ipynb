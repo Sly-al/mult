{
 "cells": [
  {
   "cell_type": "markdown",
   "metadata": {},
   "source": [
    "# Лабораторная работа 4 (RandomForest)"
   ]
  },
  {
   "cell_type": "code",
   "execution_count": 1,
   "metadata": {},
   "outputs": [],
   "source": [
    "import pandas as pd\n",
    "import matplotlib.pyplot as plt\n",
    "import numpy as np\n",
    "from sklearn.model_selection import train_test_split\n",
    "from sklearn.impute import SimpleImputer\n",
    "from sklearn.preprocessing import LabelEncoder, StandardScaler, OneHotEncoder, OrdinalEncoder\n",
    "from sklearn.metrics import mean_absolute_error, mean_squared_error, r2_score, accuracy_score, precision_score, recall_score, f1_score\n",
    "from sklearn.ensemble import RandomForestRegressor, RandomForestClassifier\n",
    "from sklearn.tree import DecisionTreeRegressor, DecisionTreeClassifier\n",
    "from utils import regression_cross_validate, display_metrics_table, classification_cross_validate, display_metrics_classification_table\n"
   ]
  },
  {
   "cell_type": "code",
   "execution_count": 2,
   "metadata": {},
   "outputs": [],
   "source": [
    "import warnings\n",
    "warnings.filterwarnings(\"ignore\")"
   ]
  },
  {
   "cell_type": "markdown",
   "metadata": {},
   "source": [
    "### Regression"
   ]
  },
  {
   "cell_type": "markdown",
   "metadata": {},
   "source": [
    "#### 1. Обработка данных"
   ]
  },
  {
   "cell_type": "code",
   "execution_count": 3,
   "metadata": {},
   "outputs": [
    {
     "data": {
      "text/html": [
       "<div>\n",
       "<style scoped>\n",
       "    .dataframe tbody tr th:only-of-type {\n",
       "        vertical-align: middle;\n",
       "    }\n",
       "\n",
       "    .dataframe tbody tr th {\n",
       "        vertical-align: top;\n",
       "    }\n",
       "\n",
       "    .dataframe thead th {\n",
       "        text-align: right;\n",
       "    }\n",
       "</style>\n",
       "<table border=\"1\" class=\"dataframe\">\n",
       "  <thead>\n",
       "    <tr style=\"text-align: right;\">\n",
       "      <th></th>\n",
       "      <th>Age</th>\n",
       "      <th>Gender</th>\n",
       "      <th>Education Level</th>\n",
       "      <th>Job Title</th>\n",
       "      <th>Years of Experience</th>\n",
       "      <th>Salary</th>\n",
       "    </tr>\n",
       "  </thead>\n",
       "  <tbody>\n",
       "    <tr>\n",
       "      <th>0</th>\n",
       "      <td>32</td>\n",
       "      <td>Male</td>\n",
       "      <td>Bachelor's</td>\n",
       "      <td>Software Engineer</td>\n",
       "      <td>5.0</td>\n",
       "      <td>90000</td>\n",
       "    </tr>\n",
       "    <tr>\n",
       "      <th>1</th>\n",
       "      <td>28</td>\n",
       "      <td>Female</td>\n",
       "      <td>Master's</td>\n",
       "      <td>Data Analyst</td>\n",
       "      <td>3.0</td>\n",
       "      <td>65000</td>\n",
       "    </tr>\n",
       "    <tr>\n",
       "      <th>2</th>\n",
       "      <td>45</td>\n",
       "      <td>Male</td>\n",
       "      <td>PhD</td>\n",
       "      <td>Senior Manager</td>\n",
       "      <td>15.0</td>\n",
       "      <td>150000</td>\n",
       "    </tr>\n",
       "    <tr>\n",
       "      <th>3</th>\n",
       "      <td>36</td>\n",
       "      <td>Female</td>\n",
       "      <td>Bachelor's</td>\n",
       "      <td>Sales Associate</td>\n",
       "      <td>7.0</td>\n",
       "      <td>60000</td>\n",
       "    </tr>\n",
       "    <tr>\n",
       "      <th>4</th>\n",
       "      <td>52</td>\n",
       "      <td>Male</td>\n",
       "      <td>Master's</td>\n",
       "      <td>Director</td>\n",
       "      <td>20.0</td>\n",
       "      <td>200000</td>\n",
       "    </tr>\n",
       "  </tbody>\n",
       "</table>\n",
       "</div>"
      ],
      "text/plain": [
       "   Age  Gender Education Level          Job Title  Years of Experience  Salary\n",
       "0   32    Male      Bachelor's  Software Engineer                  5.0   90000\n",
       "1   28  Female        Master's       Data Analyst                  3.0   65000\n",
       "2   45    Male             PhD     Senior Manager                 15.0  150000\n",
       "3   36  Female      Bachelor's    Sales Associate                  7.0   60000\n",
       "4   52    Male        Master's           Director                 20.0  200000"
      ]
     },
     "execution_count": 3,
     "metadata": {},
     "output_type": "execute_result"
    }
   ],
   "source": [
    "df = pd.read_csv('data/Salary_Data.csv')\n",
    "df.head()"
   ]
  },
  {
   "cell_type": "code",
   "execution_count": 4,
   "metadata": {},
   "outputs": [],
   "source": [
    "X, y = df.drop(columns=['Salary', 'Job Title']), df['Salary']\n",
    "\n",
    "X_train, X_test, y_train, y_test = train_test_split(X, y, random_state=42)\n",
    "\n",
    "gender_le = LabelEncoder()\n",
    "el_le = LabelEncoder()\n",
    "\n",
    "X_train['Gender'] = gender_le.fit_transform(X_train['Gender'])\n",
    "X_test['Gender'] = gender_le.transform(X_test['Gender'])\n",
    "\n",
    "X_train['Education Level'] = el_le.fit_transform(X_train['Education Level'])\n",
    "X_test['Education Level'] = el_le.transform(X_test['Education Level'])\n"
   ]
  },
  {
   "cell_type": "markdown",
   "metadata": {},
   "source": [
    "#### 2. Построение бейзлайна "
   ]
  },
  {
   "cell_type": "markdown",
   "metadata": {},
   "source": [
    "Для оценки модели будем использовать метод кросс валидации, который позволяет более качественно оценить полученные метрики."
   ]
  },
  {
   "cell_type": "code",
   "execution_count": 5,
   "metadata": {},
   "outputs": [
    {
     "name": "stdout",
     "output_type": "stream",
     "text": [
      "| Metric   |            Mean |        Std Dev |\n",
      "|:---------|----------------:|---------------:|\n",
      "| MAE      | 11495.4         | 1124.84        |\n",
      "| MSE      |     2.69259e+08 |    5.88017e+07 |\n",
      "| R2       |     0.883911    |    0.0281219   |\n",
      "\n",
      "=== Результаты на Тесте ===\n",
      "Среднеквадратичная ошибка (MSE): 309918648.63\n",
      "Средняя абсолютная ошибка (MAE): 12029.18\n",
      "Коэффициент детерминации (R^2): 0.86\n"
     ]
    }
   ],
   "source": [
    "metrics = regression_cross_validate(RandomForestRegressor, X_train.to_numpy(), y_train.to_numpy(), n_folds=5, random_state=42, n_estimators=100, max_depth=3)\n",
    "display_metrics_table(*metrics)\n",
    "\n",
    "rf = RandomForestRegressor(random_state=42, n_estimators=100, max_depth=3)\n",
    "rf.fit(X_train, y_train)\n",
    "\n",
    "y_pred = rf.predict(X_test)\n",
    "\n",
    "# Метрики\n",
    "mse = mean_squared_error(y_test, y_pred)\n",
    "mae = mean_absolute_error(y_test, y_pred)\n",
    "r2 = r2_score(y_test, y_pred)\n",
    "\n",
    "# Вывод метрик\n",
    "print(\"\\n=== Результаты на Тесте ===\")\n",
    "print(f\"Среднеквадратичная ошибка (MSE): {mse:.2f}\")\n",
    "print(f\"Средняя абсолютная ошибка (MAE): {mae:.2f}\")\n",
    "print(f\"Коэффициент детерминации (R^2): {r2:.2f}\")"
   ]
  },
  {
   "cell_type": "markdown",
   "metadata": {},
   "source": [
    "Как можем увидеть значение метрики $R^2$ около 0.86, что означает что около 86% дисперсии данных объясняется моделью."
   ]
  },
  {
   "cell_type": "markdown",
   "metadata": {},
   "source": [
    "#### 3. Формулировка гипотез"
   ]
  },
  {
   "cell_type": "markdown",
   "metadata": {},
   "source": [
    "Сформулируем несколько гипотез, которые могут помочь улучшить качество модели\n",
    "\n",
    "1) Поменять Encoder категориальных признаков с `LabelEncoder` на `OneHotEncoder`\n",
    "2) Отмасштабировать численные признаки\n",
    "3) Увеличить глубину и число деревьев"
   ]
  },
  {
   "cell_type": "code",
   "execution_count": 6,
   "metadata": {},
   "outputs": [],
   "source": [
    "onehot = OneHotEncoder(sparse_output=False, drop='first')\n",
    "\n",
    "categorical_features = ['Gender', 'Education Level']\n",
    "\n",
    "encoded_train_data = onehot.fit_transform(X_train[categorical_features])\n",
    "encoded_test_data = onehot.transform(X_test[categorical_features])\n",
    "\n",
    "encoded_df = pd.DataFrame(encoded_train_data, columns=onehot.get_feature_names_out(categorical_features))\n",
    "X_train_upd = X_train.drop(columns=categorical_features).reset_index(drop=True)\n",
    "X_train_upd = pd.concat([X_train_upd, encoded_df], axis=1)\n",
    "\n",
    "encoded_df = pd.DataFrame(encoded_test_data, columns=onehot.get_feature_names_out(categorical_features))\n",
    "X_test_upd = X_test.drop(columns=categorical_features).reset_index(drop=True)\n",
    "X_test_upd = pd.concat([X_test_upd, encoded_df], axis=1)\n",
    "\n",
    "scaler = StandardScaler()\n",
    "num_features = ['Age', 'Years of Experience']\n",
    "X_train_upd[num_features] = scaler.fit_transform(X_train[num_features])\n",
    "X_test_upd[num_features] = scaler.transform(X_test[num_features])"
   ]
  },
  {
   "cell_type": "code",
   "execution_count": 7,
   "metadata": {},
   "outputs": [
    {
     "name": "stdout",
     "output_type": "stream",
     "text": [
      "| Metric   |            Mean |        Std Dev |\n",
      "|:---------|----------------:|---------------:|\n",
      "| MAE      | 10742           | 1072.42        |\n",
      "| MSE      |     2.60804e+08 |    5.24434e+07 |\n",
      "| R2       |     0.886885    |    0.0282617   |\n",
      "\n",
      "=== Результаты на Тесте ===\n",
      "Среднеквадратичная ошибка (MSE): 266888563.88\n",
      "Средняя абсолютная ошибка (MAE): 10644.36\n",
      "Коэффициент детерминации (R^2): 0.88\n"
     ]
    }
   ],
   "source": [
    "metrics = regression_cross_validate(RandomForestRegressor, X_train_upd.to_numpy(), y_train.to_numpy(), n_folds=5, random_state=42, n_estimators=300, max_depth=7)\n",
    "display_metrics_table(*metrics)\n",
    "\n",
    "rf = RandomForestRegressor(n_estimators=300, max_depth=7, random_state=42)\n",
    "rf.fit(X_train, y_train)\n",
    "\n",
    "y_pred = rf.predict(X_test)\n",
    "\n",
    "# Метрики\n",
    "mse = mean_squared_error(y_test, y_pred)\n",
    "mae = mean_absolute_error(y_test, y_pred)\n",
    "r2 = r2_score(y_test, y_pred)\n",
    "\n",
    "# Вывод метрик\n",
    "print(\"\\n=== Результаты на Тесте ===\")\n",
    "print(f\"Среднеквадратичная ошибка (MSE): {mse:.2f}\")\n",
    "print(f\"Средняя абсолютная ошибка (MAE): {mae:.2f}\")\n",
    "print(f\"Коэффициент детерминации (R^2): {r2:.2f}\")"
   ]
  },
  {
   "cell_type": "markdown",
   "metadata": {},
   "source": [
    "Можно увидеть, что в целом значения метрик улучшились. Результаты на тестовой выборке также показывают приросты."
   ]
  },
  {
   "cell_type": "markdown",
   "metadata": {},
   "source": [
    "#### 4. Реализация своего класса"
   ]
  },
  {
   "cell_type": "code",
   "execution_count": 8,
   "metadata": {},
   "outputs": [],
   "source": [
    "class MyRandomForestRegressor:\n",
    "    def __init__(self, n_estimators=100, max_depth=None):\n",
    "        self.n_estimators = n_estimators  # Количество деревьев\n",
    "        self.max_depth = max_depth  # Глубина дерева\n",
    "    def fit(self, X, y):\n",
    "        self.trees = []\n",
    "        for _ in range(self.n_estimators):\n",
    "            bootstrap_indices = np.random.choice(len(X), size=len(X), replace=True)\n",
    "            X_bootstrap = X[bootstrap_indices]\n",
    "            y_bootstrap = y[bootstrap_indices]\n",
    "            tree = DecisionTreeRegressor(max_depth=self.max_depth)\n",
    "            tree.fit(X_bootstrap, y_bootstrap)\n",
    "            self.trees.append(tree)\n",
    "\n",
    "    def predict(self, X):\n",
    "        predictions = np.zeros((len(X), self.n_estimators))\n",
    "        for i, tree in enumerate(self.trees):\n",
    "            predictions[:, i] = tree.predict(X)\n",
    "        return predictions.mean(axis=1)"
   ]
  },
  {
   "cell_type": "code",
   "execution_count": 9,
   "metadata": {},
   "outputs": [
    {
     "name": "stdout",
     "output_type": "stream",
     "text": [
      "| Metric   |           Mean |        Std Dev |\n",
      "|:---------|---------------:|---------------:|\n",
      "| MAE      | 11395.2        | 1354.32        |\n",
      "| MSE      |     2.6682e+08 |    6.36048e+07 |\n",
      "| R2       |     0.885078   |    0.0297093   |\n",
      "\n",
      "=== Результаты на Тесте ===\n",
      "Среднеквадратичная ошибка (MSE): 308030501.12\n",
      "Средняя абсолютная ошибка (MAE): 12143.92\n",
      "Коэффициент детерминации (R^2): 0.86\n"
     ]
    }
   ],
   "source": [
    "metrics = regression_cross_validate(MyRandomForestRegressor, X_train.to_numpy(), y_train.to_numpy(), n_folds=5, n_estimators=100, max_depth=3)\n",
    "display_metrics_table(*metrics)\n",
    "\n",
    "rf = MyRandomForestRegressor(n_estimators=100, max_depth=3)\n",
    "rf.fit(X_train.to_numpy(), y_train.to_numpy())\n",
    "\n",
    "y_pred = rf.predict(X_test.to_numpy())\n",
    "\n",
    "# Метрики\n",
    "mse = mean_squared_error(y_test, y_pred)\n",
    "mae = mean_absolute_error(y_test, y_pred)\n",
    "r2 = r2_score(y_test, y_pred)\n",
    "\n",
    "# Вывод метрик\n",
    "print(\"\\n=== Результаты на Тесте ===\")\n",
    "print(f\"Среднеквадратичная ошибка (MSE): {mse:.2f}\")\n",
    "print(f\"Средняя абсолютная ошибка (MAE): {mae:.2f}\")\n",
    "print(f\"Коэффициент детерминации (R^2): {r2:.2f}\")"
   ]
  },
  {
   "cell_type": "code",
   "execution_count": 10,
   "metadata": {},
   "outputs": [
    {
     "name": "stdout",
     "output_type": "stream",
     "text": [
      "| Metric   |            Mean |        Std Dev |\n",
      "|:---------|----------------:|---------------:|\n",
      "| MAE      | 10759.2         | 1109.63        |\n",
      "| MSE      |     2.58831e+08 |    5.68971e+07 |\n",
      "| R2       |     0.887654    |    0.0301864   |\n",
      "\n",
      "=== Результаты на Тесте ===\n",
      "Среднеквадратичная ошибка (MSE): 269138945.61\n",
      "Средняя абсолютная ошибка (MAE): 10625.08\n",
      "Коэффициент детерминации (R^2): 0.88\n"
     ]
    }
   ],
   "source": [
    "metrics = regression_cross_validate(MyRandomForestRegressor, X_train_upd.to_numpy(), y_train.to_numpy(), n_folds=5, n_estimators=300, max_depth=7)\n",
    "display_metrics_table(*metrics)\n",
    "\n",
    "rf = MyRandomForestRegressor(n_estimators=300, max_depth=7)\n",
    "rf.fit(X_train.to_numpy(), y_train.to_numpy())\n",
    "\n",
    "y_pred = rf.predict(X_test.to_numpy())\n",
    "\n",
    "# Метрики\n",
    "mse = mean_squared_error(y_test, y_pred)\n",
    "mae = mean_absolute_error(y_test, y_pred)\n",
    "r2 = r2_score(y_test, y_pred)\n",
    "\n",
    "# Вывод метрик\n",
    "print(\"\\n=== Результаты на Тесте ===\")\n",
    "print(f\"Среднеквадратичная ошибка (MSE): {mse:.2f}\")\n",
    "print(f\"Средняя абсолютная ошибка (MAE): {mae:.2f}\")\n",
    "print(f\"Коэффициент детерминации (R^2): {r2:.2f}\")"
   ]
  },
  {
   "cell_type": "markdown",
   "metadata": {},
   "source": [
    "Результаты показывают что собственная имплементация модели в среднем работает на том же уровне качества, что и модель из `sklearn`"
   ]
  },
  {
   "cell_type": "markdown",
   "metadata": {},
   "source": [
    "### Classification"
   ]
  },
  {
   "cell_type": "markdown",
   "metadata": {},
   "source": [
    "#### 1. Обработка данных"
   ]
  },
  {
   "cell_type": "code",
   "execution_count": 11,
   "metadata": {},
   "outputs": [
    {
     "data": {
      "text/html": [
       "<div>\n",
       "<style scoped>\n",
       "    .dataframe tbody tr th:only-of-type {\n",
       "        vertical-align: middle;\n",
       "    }\n",
       "\n",
       "    .dataframe tbody tr th {\n",
       "        vertical-align: top;\n",
       "    }\n",
       "\n",
       "    .dataframe thead th {\n",
       "        text-align: right;\n",
       "    }\n",
       "</style>\n",
       "<table border=\"1\" class=\"dataframe\">\n",
       "  <thead>\n",
       "    <tr style=\"text-align: right;\">\n",
       "      <th></th>\n",
       "      <th>id</th>\n",
       "      <th>Gender</th>\n",
       "      <th>Age</th>\n",
       "      <th>City</th>\n",
       "      <th>Profession</th>\n",
       "      <th>Academic Pressure</th>\n",
       "      <th>Work Pressure</th>\n",
       "      <th>CGPA</th>\n",
       "      <th>Study Satisfaction</th>\n",
       "      <th>Job Satisfaction</th>\n",
       "      <th>Sleep Duration</th>\n",
       "      <th>Dietary Habits</th>\n",
       "      <th>Degree</th>\n",
       "      <th>Have you ever had suicidal thoughts ?</th>\n",
       "      <th>Work/Study Hours</th>\n",
       "      <th>Financial Stress</th>\n",
       "      <th>Family History of Mental Illness</th>\n",
       "      <th>Depression</th>\n",
       "    </tr>\n",
       "  </thead>\n",
       "  <tbody>\n",
       "    <tr>\n",
       "      <th>0</th>\n",
       "      <td>2</td>\n",
       "      <td>Male</td>\n",
       "      <td>33.0</td>\n",
       "      <td>Visakhapatnam</td>\n",
       "      <td>Student</td>\n",
       "      <td>5.0</td>\n",
       "      <td>0.0</td>\n",
       "      <td>8.97</td>\n",
       "      <td>2.0</td>\n",
       "      <td>0.0</td>\n",
       "      <td>5-6 hours</td>\n",
       "      <td>Healthy</td>\n",
       "      <td>B.Pharm</td>\n",
       "      <td>Yes</td>\n",
       "      <td>3.0</td>\n",
       "      <td>1.0</td>\n",
       "      <td>No</td>\n",
       "      <td>1</td>\n",
       "    </tr>\n",
       "    <tr>\n",
       "      <th>1</th>\n",
       "      <td>8</td>\n",
       "      <td>Female</td>\n",
       "      <td>24.0</td>\n",
       "      <td>Bangalore</td>\n",
       "      <td>Student</td>\n",
       "      <td>2.0</td>\n",
       "      <td>0.0</td>\n",
       "      <td>5.90</td>\n",
       "      <td>5.0</td>\n",
       "      <td>0.0</td>\n",
       "      <td>5-6 hours</td>\n",
       "      <td>Moderate</td>\n",
       "      <td>BSc</td>\n",
       "      <td>No</td>\n",
       "      <td>3.0</td>\n",
       "      <td>2.0</td>\n",
       "      <td>Yes</td>\n",
       "      <td>0</td>\n",
       "    </tr>\n",
       "    <tr>\n",
       "      <th>2</th>\n",
       "      <td>26</td>\n",
       "      <td>Male</td>\n",
       "      <td>31.0</td>\n",
       "      <td>Srinagar</td>\n",
       "      <td>Student</td>\n",
       "      <td>3.0</td>\n",
       "      <td>0.0</td>\n",
       "      <td>7.03</td>\n",
       "      <td>5.0</td>\n",
       "      <td>0.0</td>\n",
       "      <td>Less than 5 hours</td>\n",
       "      <td>Healthy</td>\n",
       "      <td>BA</td>\n",
       "      <td>No</td>\n",
       "      <td>9.0</td>\n",
       "      <td>1.0</td>\n",
       "      <td>Yes</td>\n",
       "      <td>0</td>\n",
       "    </tr>\n",
       "    <tr>\n",
       "      <th>3</th>\n",
       "      <td>30</td>\n",
       "      <td>Female</td>\n",
       "      <td>28.0</td>\n",
       "      <td>Varanasi</td>\n",
       "      <td>Student</td>\n",
       "      <td>3.0</td>\n",
       "      <td>0.0</td>\n",
       "      <td>5.59</td>\n",
       "      <td>2.0</td>\n",
       "      <td>0.0</td>\n",
       "      <td>7-8 hours</td>\n",
       "      <td>Moderate</td>\n",
       "      <td>BCA</td>\n",
       "      <td>Yes</td>\n",
       "      <td>4.0</td>\n",
       "      <td>5.0</td>\n",
       "      <td>Yes</td>\n",
       "      <td>1</td>\n",
       "    </tr>\n",
       "    <tr>\n",
       "      <th>4</th>\n",
       "      <td>32</td>\n",
       "      <td>Female</td>\n",
       "      <td>25.0</td>\n",
       "      <td>Jaipur</td>\n",
       "      <td>Student</td>\n",
       "      <td>4.0</td>\n",
       "      <td>0.0</td>\n",
       "      <td>8.13</td>\n",
       "      <td>3.0</td>\n",
       "      <td>0.0</td>\n",
       "      <td>5-6 hours</td>\n",
       "      <td>Moderate</td>\n",
       "      <td>M.Tech</td>\n",
       "      <td>Yes</td>\n",
       "      <td>1.0</td>\n",
       "      <td>1.0</td>\n",
       "      <td>No</td>\n",
       "      <td>0</td>\n",
       "    </tr>\n",
       "  </tbody>\n",
       "</table>\n",
       "</div>"
      ],
      "text/plain": [
       "   id  Gender   Age           City Profession  Academic Pressure  \\\n",
       "0   2    Male  33.0  Visakhapatnam    Student                5.0   \n",
       "1   8  Female  24.0      Bangalore    Student                2.0   \n",
       "2  26    Male  31.0       Srinagar    Student                3.0   \n",
       "3  30  Female  28.0       Varanasi    Student                3.0   \n",
       "4  32  Female  25.0         Jaipur    Student                4.0   \n",
       "\n",
       "   Work Pressure  CGPA  Study Satisfaction  Job Satisfaction  \\\n",
       "0            0.0  8.97                 2.0               0.0   \n",
       "1            0.0  5.90                 5.0               0.0   \n",
       "2            0.0  7.03                 5.0               0.0   \n",
       "3            0.0  5.59                 2.0               0.0   \n",
       "4            0.0  8.13                 3.0               0.0   \n",
       "\n",
       "      Sleep Duration Dietary Habits   Degree  \\\n",
       "0          5-6 hours        Healthy  B.Pharm   \n",
       "1          5-6 hours       Moderate      BSc   \n",
       "2  Less than 5 hours        Healthy       BA   \n",
       "3          7-8 hours       Moderate      BCA   \n",
       "4          5-6 hours       Moderate   M.Tech   \n",
       "\n",
       "  Have you ever had suicidal thoughts ?  Work/Study Hours  Financial Stress  \\\n",
       "0                                   Yes               3.0               1.0   \n",
       "1                                    No               3.0               2.0   \n",
       "2                                    No               9.0               1.0   \n",
       "3                                   Yes               4.0               5.0   \n",
       "4                                   Yes               1.0               1.0   \n",
       "\n",
       "  Family History of Mental Illness  Depression  \n",
       "0                               No           1  \n",
       "1                              Yes           0  \n",
       "2                              Yes           0  \n",
       "3                              Yes           1  \n",
       "4                               No           0  "
      ]
     },
     "execution_count": 11,
     "metadata": {},
     "output_type": "execute_result"
    }
   ],
   "source": [
    "df = pd.read_csv('data/Student_Depression_Dataset.csv')\n",
    "df.head()"
   ]
  },
  {
   "cell_type": "code",
   "execution_count": 12,
   "metadata": {},
   "outputs": [],
   "source": [
    "X, y = df.drop(columns=['Depression', 'id']), df['Depression']\n",
    "\n",
    "X_train, X_test, y_train, y_test = train_test_split(X, y, random_state=42)\n",
    "\n",
    "categorical_features = ['Gender', 'City', 'Profession', 'Sleep Duration', 'Dietary Habits', 'Degree', 'Have you ever had suicidal thoughts ?', 'Family History of Mental Illness']\n",
    "num_features = ['Age', 'Academic Pressure', 'Work Pressure', 'CGPA', 'Study Satisfaction', 'Job Satisfaction', 'Work/Study Hours', 'Financial Stress']\n",
    "\n",
    "le = OrdinalEncoder(handle_unknown='use_encoded_value',\n",
    "                    unknown_value=99)\n",
    "\n",
    "X_train[categorical_features] = le.fit_transform(X_train[categorical_features])\n",
    "X_test[categorical_features] = le.transform(X_test[categorical_features])\n",
    "\n",
    "imputer = SimpleImputer(strategy='most_frequent') \n",
    "X_train = pd.DataFrame(imputer.fit_transform(X_train), columns=X_train.columns)\n",
    "X_test = pd.DataFrame(imputer.transform(X_test), columns=X_test.columns)\n"
   ]
  },
  {
   "cell_type": "markdown",
   "metadata": {},
   "source": [
    "#### 2. Построение бейзлайна "
   ]
  },
  {
   "cell_type": "code",
   "execution_count": 13,
   "metadata": {},
   "outputs": [
    {
     "name": "stdout",
     "output_type": "stream",
     "text": [
      "| Metric    |     Mean |    Std Dev |\n",
      "|:----------|---------:|-----------:|\n",
      "| Accuracy  | 0.822748 | 0.00599261 |\n",
      "| Precision | 0.823032 | 0.00627539 |\n",
      "| Recall    | 0.822748 | 0.00599261 |\n",
      "| F1-score  | 0.820647 | 0.00615235 |\n",
      "\n",
      "=== Результаты на Тесте ===\n",
      "1. Accuracy: 81.38%\n",
      "2. Precision: 81.41%\n",
      "3. Recall: 81.38%\n",
      "4. F1-score: 81.16%\n"
     ]
    }
   ],
   "source": [
    "metrics = classification_cross_validate(RandomForestClassifier, X_train.to_numpy(), y_train.to_numpy(), n_folds=5, random_state=42, n_estimators=100, max_depth=3)\n",
    "display_metrics_classification_table(*metrics)\n",
    "\n",
    "rf = RandomForestClassifier(random_state=42, n_estimators=100, max_depth=3)\n",
    "rf.fit(X_train, y_train)\n",
    "\n",
    "y_pred = rf.predict(X_test)\n",
    "\n",
    "accuracy = accuracy_score(y_test, y_pred)\n",
    "precision = precision_score(y_test, y_pred, average='weighted')\n",
    "recall = recall_score(y_test, y_pred, average='weighted')\n",
    "f1 = f1_score(y_test, y_pred, average='weighted')\n",
    "\n",
    "# Выводим результаты\n",
    "print(\"\\n=== Результаты на Тесте ===\")\n",
    "print(f\"1. Accuracy: {accuracy:.2%}\")\n",
    "print(f\"2. Precision: {precision:.2%}\")\n",
    "print(f\"3. Recall: {recall:.2%}\")\n",
    "print(f\"4. F1-score: {f1:.2%}\")"
   ]
  },
  {
   "cell_type": "markdown",
   "metadata": {},
   "source": [
    "#### 3. Формулировка гипотез"
   ]
  },
  {
   "cell_type": "markdown",
   "metadata": {},
   "source": [
    "Сформулируем несколько гипотез, которые могут помочь улучшить качество модели\n",
    "\n",
    "1) Поменять Encoder категориальных признаков с `LabelEncoder` на `OneHotEncoder`\n",
    "2) Отмасштабировать численные признаки\n",
    "3) Увеличить глубину и число деревьев"
   ]
  },
  {
   "cell_type": "code",
   "execution_count": 14,
   "metadata": {},
   "outputs": [],
   "source": [
    "onehot = OneHotEncoder(sparse_output=False, drop='first', handle_unknown='ignore')\n",
    "\n",
    "\n",
    "encoded_train_data = onehot.fit_transform(X_train[categorical_features])\n",
    "encoded_test_data = onehot.transform(X_test[categorical_features])\n",
    "\n",
    "encoded_df = pd.DataFrame(encoded_train_data, columns=onehot.get_feature_names_out(categorical_features))\n",
    "X_train_upd = X_train.drop(columns=categorical_features).reset_index(drop=True)\n",
    "X_train_upd = pd.concat([X_train_upd, encoded_df], axis=1)\n",
    "\n",
    "encoded_df = pd.DataFrame(encoded_test_data, columns=onehot.get_feature_names_out(categorical_features))\n",
    "X_test_upd = X_test.drop(columns=categorical_features).reset_index(drop=True)\n",
    "X_test_upd = pd.concat([X_test_upd, encoded_df], axis=1)\n",
    "\n",
    "X_train_upd[num_features] = scaler.fit_transform(X_train[num_features])\n",
    "X_test_upd[num_features] = scaler.transform(X_test[num_features])\n"
   ]
  },
  {
   "cell_type": "code",
   "execution_count": 15,
   "metadata": {},
   "outputs": [
    {
     "name": "stdout",
     "output_type": "stream",
     "text": [
      "| Metric    |     Mean |    Std Dev |\n",
      "|:----------|---------:|-----------:|\n",
      "| Accuracy  | 0.841195 | 0.00385471 |\n",
      "| Precision | 0.841791 | 0.00401028 |\n",
      "| Recall    | 0.841195 | 0.00385471 |\n",
      "| F1-score  | 0.839419 | 0.00392379 |\n",
      "\n",
      "=== Результаты на Тесте ===\n",
      "1. Accuracy: 82.87%\n",
      "2. Precision: 82.88%\n",
      "3. Recall: 82.87%\n",
      "4. F1-score: 82.71%\n"
     ]
    }
   ],
   "source": [
    "metrics = classification_cross_validate(RandomForestClassifier, X_train_upd.to_numpy(), y_train.to_numpy(), n_folds=5, random_state=42, n_estimators=300, max_depth=10)\n",
    "display_metrics_classification_table(*metrics)\n",
    "\n",
    "rf = RandomForestClassifier(n_estimators=300, max_depth=10, random_state=42)\n",
    "rf.fit(X_train_upd, y_train)\n",
    "\n",
    "y_pred = rf.predict(X_test_upd)\n",
    "\n",
    "accuracy = accuracy_score(y_test, y_pred)\n",
    "precision = precision_score(y_test, y_pred, average='weighted')\n",
    "recall = recall_score(y_test, y_pred, average='weighted')\n",
    "f1 = f1_score(y_test, y_pred, average='weighted')\n",
    "\n",
    "# Выводим результаты\n",
    "print(\"\\n=== Результаты на Тесте ===\")\n",
    "print(f\"1. Accuracy: {accuracy:.2%}\")\n",
    "print(f\"2. Precision: {precision:.2%}\")\n",
    "print(f\"3. Recall: {recall:.2%}\")\n",
    "print(f\"4. F1-score: {f1:.2%}\")\n"
   ]
  },
  {
   "cell_type": "markdown",
   "metadata": {},
   "source": [
    "Можно увидеть что в среднем значения метрик улучшились. \n",
    "Результаты на тестовой выборке также показывают приросты."
   ]
  },
  {
   "cell_type": "markdown",
   "metadata": {},
   "source": [
    "#### 4. Реализация своего класса"
   ]
  },
  {
   "cell_type": "code",
   "execution_count": 16,
   "metadata": {},
   "outputs": [],
   "source": [
    "class MyRandomForestClassifier:\n",
    "    def __init__(self, n_estimators=100, max_features='sqrt', max_depth=None, min_samples_split=2):\n",
    "        self.n_estimators = n_estimators\n",
    "        self.max_features = max_features\n",
    "        self.max_depth = max_depth\n",
    "        self.min_samples_split = min_samples_split\n",
    "        self.trees = []\n",
    "\n",
    "    def bootstrap_sample(self, X, y):\n",
    "        n_samples = X.shape[0]\n",
    "        indices = np.random.choice(n_samples, size=n_samples, replace=True)\n",
    "        return X[indices], y[indices]\n",
    "\n",
    "    def fit(self, X, y):\n",
    "        self.trees = []\n",
    "        self.feature_indices = []\n",
    "\n",
    "        for _ in range(self.n_estimators):\n",
    "            # Создаем бутстреп-выборку\n",
    "            X_sample, y_sample = self.bootstrap_sample(X, y)\n",
    "\n",
    "            # Создаем и обучаем дерево\n",
    "            tree = DecisionTreeClassifier(max_depth=self.max_depth, min_samples_split=self.min_samples_split)\n",
    "            tree.fit(X_sample, y_sample)\n",
    "            self.trees.append(tree)\n",
    "\n",
    "    def predict(self, X):\n",
    "        tree_preds = np.array([tree.predict(X) for tree in self.trees])\n",
    "        # Возвращаем большинство голосов\n",
    "        predictions = np.apply_along_axis(lambda x: np.bincount(x, minlength=len(np.unique(x))).argmax(), axis=0, arr=tree_preds)\n",
    "        return predictions"
   ]
  },
  {
   "cell_type": "code",
   "execution_count": 17,
   "metadata": {},
   "outputs": [
    {
     "name": "stdout",
     "output_type": "stream",
     "text": [
      "| Metric    |     Mean |    Std Dev |\n",
      "|:----------|---------:|-----------:|\n",
      "| Accuracy  | 0.824659 | 0.00266254 |\n",
      "| Precision | 0.825127 | 0.00275535 |\n",
      "| Recall    | 0.824659 | 0.00266254 |\n",
      "| F1-score  | 0.822459 | 0.00288935 |\n",
      "\n",
      "=== Результаты на Тесте ===\n",
      "1. Accuracy: 81.26%\n",
      "2. Precision: 81.28%\n",
      "3. Recall: 81.26%\n",
      "4. F1-score: 81.04%\n"
     ]
    }
   ],
   "source": [
    "metrics = classification_cross_validate(MyRandomForestClassifier, X_train.to_numpy(), y_train.to_numpy(), n_folds=5, n_estimators=100, max_depth=3)\n",
    "display_metrics_classification_table(*metrics)\n",
    "\n",
    "rf = MyRandomForestClassifier(n_estimators=100, max_depth=3)\n",
    "rf.fit(X_train.to_numpy(), y_train.to_numpy())\n",
    "\n",
    "y_pred = rf.predict(X_test.to_numpy())\n",
    "\n",
    "accuracy = accuracy_score(y_test, y_pred)\n",
    "precision = precision_score(y_test, y_pred, average='weighted')\n",
    "recall = recall_score(y_test, y_pred, average='weighted')\n",
    "f1 = f1_score(y_test, y_pred, average='weighted')\n",
    "\n",
    "# Выводим результаты\n",
    "print(\"\\n=== Результаты на Тесте ===\")\n",
    "print(f\"1. Accuracy: {accuracy:.2%}\")\n",
    "print(f\"2. Precision: {precision:.2%}\")\n",
    "print(f\"3. Recall: {recall:.2%}\")\n",
    "print(f\"4. F1-score: {f1:.2%}\")"
   ]
  },
  {
   "cell_type": "code",
   "execution_count": 18,
   "metadata": {},
   "outputs": [
    {
     "name": "stdout",
     "output_type": "stream",
     "text": [
      "| Metric    |     Mean |    Std Dev |\n",
      "|:----------|---------:|-----------:|\n",
      "| Accuracy  | 0.842867 | 0.0040257  |\n",
      "| Precision | 0.842389 | 0.00410034 |\n",
      "| Recall    | 0.842867 | 0.0040257  |\n",
      "| F1-score  | 0.842331 | 0.00403243 |\n",
      "\n",
      "=== Результаты на Тесте ===\n",
      "1. Accuracy: 83.14%\n",
      "2. Precision: 83.10%\n",
      "3. Recall: 83.14%\n",
      "4. F1-score: 83.11%\n"
     ]
    }
   ],
   "source": [
    "metrics = classification_cross_validate(MyRandomForestClassifier, X_train_upd.to_numpy(), y_train.to_numpy(), n_folds=5, n_estimators=300, max_depth=10)\n",
    "display_metrics_classification_table(*metrics)\n",
    "\n",
    "rf = MyRandomForestClassifier(n_estimators=300, max_depth=10)\n",
    "rf.fit(X_train_upd.to_numpy(), y_train.to_numpy())\n",
    "\n",
    "y_pred = rf.predict(X_test_upd.to_numpy())\n",
    "\n",
    "accuracy = accuracy_score(y_test, y_pred)\n",
    "precision = precision_score(y_test, y_pred, average='weighted')\n",
    "recall = recall_score(y_test, y_pred, average='weighted')\n",
    "f1 = f1_score(y_test, y_pred, average='weighted')\n",
    "\n",
    "# Выводим результаты\n",
    "print(\"\\n=== Результаты на Тесте ===\")\n",
    "print(f\"1. Accuracy: {accuracy:.2%}\")\n",
    "print(f\"2. Precision: {precision:.2%}\")\n",
    "print(f\"3. Recall: {recall:.2%}\")\n",
    "print(f\"4. F1-score: {f1:.2%}\")\n"
   ]
  },
  {
   "cell_type": "markdown",
   "metadata": {},
   "source": [
    "Результаты показывают что собственная имплементация модели в среднем работает примерно на том же уровне качества, что и модель из `sklearn`"
   ]
  },
  {
   "cell_type": "markdown",
   "metadata": {},
   "source": [
    "### Заключение"
   ]
  },
  {
   "cell_type": "markdown",
   "metadata": {},
   "source": [
    "Внесённые изменения, включая нормализацию данных и увеличение глубины и числа деревьев в алгоритме, улучшают точность модели. Проведённые эксперименты демонстрируют, что как собственная реализация, так и применение моделей из sklearn, дают схожие результаты."
   ]
  },
  {
   "cell_type": "markdown",
   "metadata": {},
   "source": [
    "| Модель                    |      MSE  |        MAE |      $R^2$ |\n",
    "|:--------------------------|----------:|-----------:|-----------:|\n",
    "| Sklearn (до улучшения)    | 3.09e+08  | 12029.18   |  0.86      |\n",
    "| Sklearn (после улучшения) | 2.66e+08  | 10644.36   |  0.88      |\n",
    "| Собственная имплементация (до улучшения)   | 3.08e+08   | 12143.04    |  0.86      |\n",
    "| Собственная имплементация (после улучшения)| 2.691e+08  | 10625.08    |  0.88      |"
   ]
  },
  {
   "cell_type": "markdown",
   "metadata": {},
   "source": [
    "| Модель                    |  Accuracy |  Precision |     Recall |    F1-score |\n",
    "|:--------------------------|----------:|-----------:|-----------:|-----------:|\n",
    "| Sklearn (до улучшения)    |   81.38%  |   81.41%   |  81.38%    |  81.16%    |\n",
    "| Sklearn (после улучшения) |   82.87%  |   82.88%   |  82.87%    |  82.71%    |\n",
    "| Собственная имплементация (до улучшения)   |   81.26%  |   81.28%   |  81.26%    |  81.04%    |\n",
    "| Собственная имплементация (после улучшения)|   83.14%  |   83.10%   |  83.14%    |  83.11%    |"
   ]
  }
 ],
 "metadata": {
  "kernelspec": {
   "display_name": "labs",
   "language": "python",
   "name": "python3"
  },
  "language_info": {
   "codemirror_mode": {
    "name": "ipython",
    "version": 3
   },
   "file_extension": ".py",
   "mimetype": "text/x-python",
   "name": "python",
   "nbconvert_exporter": "python",
   "pygments_lexer": "ipython3",
   "version": "3.9.19"
  }
 },
 "nbformat": 4,
 "nbformat_minor": 2
}
