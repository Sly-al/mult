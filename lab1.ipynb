{
 "cells": [
  {
   "cell_type": "markdown",
   "metadata": {},
   "source": [
    "# Лабораторная работа 1 (KNN)"
   ]
  },
  {
   "cell_type": "markdown",
   "metadata": {},
   "source": [
    "## Пояснения к выбору начальных условий\n",
    "\n",
    "### Регрессия\n",
    "\n",
    "#### Датасет:\n",
    "Для решения задачи регрессии был выбран датасет \"Salary data\" ([link](https://www.kaggle.com/datasets/rkiattisak/salaly-prediction-for-beginer)). \n",
    "\n",
    "**Практическое применение**: Результаты могут помочь компаниям лучше понимать, как различные факторы влияют на зарплату, или использовать модель для автоматизации назначения зарплаты новым сотрудникам.\n",
    "\n",
    "#### Метрики:\n",
    "\n",
    "Для оценки модели были выбраны следующие метрики:\n",
    "\n",
    "1. Mean Absolute Error (MAE) - Среднее абсолютное отклонение\n",
    "2. Mean Squared Error (MSE) - Среднеквадратичное отклонение\n",
    "3. R-squared ($R^2$) – Коэффициент детерминации\n",
    "\n",
    "### Классификация\n",
    "\n",
    "#### Датасет:\n",
    "\n",
    "Для решения задачи классификации был выбран датасет \"Student Depression Dataset\" ([link](https://www.kaggle.com/datasets/hopesb/student-depression-dataset)). \n",
    "\n",
    "**Практическое применение**: Модели машинного обучения, обученные на этом датасете, могут помочь в раннем выявлении депрессии у студентов, анализируя взаимосвязь между факторами, такими как академическое давление, финансовый стресс и привычки сна. Это позволяет образовательным учреждениям и организациям разрабатывать целенаправленные меры поддержки для улучшения ментального здоровья учащихся.\n",
    "\n",
    "#### Метрики:\n",
    "\n",
    "Для оценки модели были выбраны следующие метрики:\n",
    "\n",
    "1. Accuracy – Точность\n",
    "2. Precision – Точность предсказания для одного класса\n",
    "3. Recall – Полнота\n",
    "4. F1-score – Среднее гармоническое между Precision и Recall"
   ]
  },
  {
   "cell_type": "markdown",
   "metadata": {},
   "source": [
    "#### Импортируем библиотеки"
   ]
  },
  {
   "cell_type": "code",
   "execution_count": null,
   "metadata": {},
   "outputs": [],
   "source": [
    "import numpy as np\n",
    "import pandas as pd\n",
    "import matplotlib.pyplot as plt\n",
    "from sklearn.impute import SimpleImputer\n",
    "from sklearn.preprocessing import LabelEncoder, StandardScaler, OneHotEncoder, OrdinalEncoder\n",
    "from sklearn.neighbors import KNeighborsRegressor, KNeighborsClassifier\n",
    "from sklearn.model_selection import train_test_split\n",
    "from sklearn.metrics import mean_squared_error, r2_score, mean_absolute_error,accuracy_score, precision_score, recall_score, f1_score\n",
    "from collections import Counter\n",
    "from utils import regression_cross_validate, display_metrics_table, classification_cross_validate, display_metrics_classification_table"
   ]
  },
  {
   "cell_type": "markdown",
   "metadata": {},
   "source": [
    "### Regression"
   ]
  },
  {
   "cell_type": "markdown",
   "metadata": {},
   "source": [
    "#### 1. Обработка данных"
   ]
  },
  {
   "cell_type": "code",
   "execution_count": 2,
   "metadata": {},
   "outputs": [
    {
     "data": {
      "text/html": [
       "<div>\n",
       "<style scoped>\n",
       "    .dataframe tbody tr th:only-of-type {\n",
       "        vertical-align: middle;\n",
       "    }\n",
       "\n",
       "    .dataframe tbody tr th {\n",
       "        vertical-align: top;\n",
       "    }\n",
       "\n",
       "    .dataframe thead th {\n",
       "        text-align: right;\n",
       "    }\n",
       "</style>\n",
       "<table border=\"1\" class=\"dataframe\">\n",
       "  <thead>\n",
       "    <tr style=\"text-align: right;\">\n",
       "      <th></th>\n",
       "      <th>Age</th>\n",
       "      <th>Gender</th>\n",
       "      <th>Education Level</th>\n",
       "      <th>Job Title</th>\n",
       "      <th>Years of Experience</th>\n",
       "      <th>Salary</th>\n",
       "    </tr>\n",
       "  </thead>\n",
       "  <tbody>\n",
       "    <tr>\n",
       "      <th>0</th>\n",
       "      <td>32</td>\n",
       "      <td>Male</td>\n",
       "      <td>Bachelor's</td>\n",
       "      <td>Software Engineer</td>\n",
       "      <td>5.0</td>\n",
       "      <td>90000</td>\n",
       "    </tr>\n",
       "    <tr>\n",
       "      <th>1</th>\n",
       "      <td>28</td>\n",
       "      <td>Female</td>\n",
       "      <td>Master's</td>\n",
       "      <td>Data Analyst</td>\n",
       "      <td>3.0</td>\n",
       "      <td>65000</td>\n",
       "    </tr>\n",
       "    <tr>\n",
       "      <th>2</th>\n",
       "      <td>45</td>\n",
       "      <td>Male</td>\n",
       "      <td>PhD</td>\n",
       "      <td>Senior Manager</td>\n",
       "      <td>15.0</td>\n",
       "      <td>150000</td>\n",
       "    </tr>\n",
       "    <tr>\n",
       "      <th>3</th>\n",
       "      <td>36</td>\n",
       "      <td>Female</td>\n",
       "      <td>Bachelor's</td>\n",
       "      <td>Sales Associate</td>\n",
       "      <td>7.0</td>\n",
       "      <td>60000</td>\n",
       "    </tr>\n",
       "    <tr>\n",
       "      <th>4</th>\n",
       "      <td>52</td>\n",
       "      <td>Male</td>\n",
       "      <td>Master's</td>\n",
       "      <td>Director</td>\n",
       "      <td>20.0</td>\n",
       "      <td>200000</td>\n",
       "    </tr>\n",
       "  </tbody>\n",
       "</table>\n",
       "</div>"
      ],
      "text/plain": [
       "   Age  Gender Education Level          Job Title  Years of Experience  Salary\n",
       "0   32    Male      Bachelor's  Software Engineer                  5.0   90000\n",
       "1   28  Female        Master's       Data Analyst                  3.0   65000\n",
       "2   45    Male             PhD     Senior Manager                 15.0  150000\n",
       "3   36  Female      Bachelor's    Sales Associate                  7.0   60000\n",
       "4   52    Male        Master's           Director                 20.0  200000"
      ]
     },
     "execution_count": 2,
     "metadata": {},
     "output_type": "execute_result"
    }
   ],
   "source": [
    "df = pd.read_csv('data/Salary_Data.csv')\n",
    "df.head()"
   ]
  },
  {
   "cell_type": "code",
   "execution_count": 3,
   "metadata": {},
   "outputs": [
    {
     "data": {
      "text/plain": [
       "174"
      ]
     },
     "execution_count": 3,
     "metadata": {},
     "output_type": "execute_result"
    }
   ],
   "source": [
    "df['Job Title'].nunique()"
   ]
  },
  {
   "cell_type": "markdown",
   "metadata": {},
   "source": [
    "В признаке `Job Title` слишком много классов, поэтому лучше избавится от него "
   ]
  },
  {
   "cell_type": "code",
   "execution_count": 4,
   "metadata": {},
   "outputs": [],
   "source": [
    "df = df.drop(columns=['Job Title'])"
   ]
  },
  {
   "cell_type": "code",
   "execution_count": 5,
   "metadata": {},
   "outputs": [],
   "source": [
    "X, y = df.drop(columns=['Salary']), df['Salary']\n",
    "\n",
    "X_train, X_test, y_train, y_test = train_test_split(X, y, random_state=42)\n",
    "\n",
    "# X_train, y_train = X, y\n",
    "\n",
    "gender_le = LabelEncoder()\n",
    "el_le = LabelEncoder()\n",
    "\n",
    "X_train['Gender'] = gender_le.fit_transform(X_train['Gender'])\n",
    "X_test['Gender'] = gender_le.transform(X_test['Gender'])\n",
    "\n",
    "X_train['Education Level'] = el_le.fit_transform(X_train['Education Level'])\n",
    "X_test['Education Level'] = el_le.transform(X_test['Education Level'])"
   ]
  },
  {
   "cell_type": "markdown",
   "metadata": {},
   "source": [
    "#### 2. Построение бейзлайна "
   ]
  },
  {
   "cell_type": "markdown",
   "metadata": {},
   "source": [
    "Для оценки модели будем использовать метод кросс валидации, который позволяет более качественно оценить полученные метрики."
   ]
  },
  {
   "cell_type": "markdown",
   "metadata": {},
   "source": [
    "Построим модель используя реализацию из sklearn"
   ]
  },
  {
   "cell_type": "code",
   "execution_count": 6,
   "metadata": {},
   "outputs": [
    {
     "name": "stdout",
     "output_type": "stream",
     "text": [
      "| Metric   |          Mean |       Std Dev |\n",
      "|:---------|--------------:|--------------:|\n",
      "| MAE      | 11422.6       | 812.697       |\n",
      "| MSE      |     3.029e+08 |   3.00217e+07 |\n",
      "| R2       |     0.869525  |   0.0147744   |\n",
      "\n",
      "=== Результаты на Тесте ===\n",
      "Среднеквадратичная ошибка (MSE): 259533832.74\n",
      "Средняя абсолютная ошибка (MAE): 11612.23\n",
      "Коэффициент детерминации (R^2): 0.88\n"
     ]
    }
   ],
   "source": [
    "metrics = regression_cross_validate(KNeighborsRegressor, X_train.to_numpy(), y_train.to_numpy(), n_folds=5, n_neighbors=3)\n",
    "display_metrics_table(*metrics)\n",
    "\n",
    "knn = KNeighborsRegressor(n_neighbors=3)\n",
    "knn.fit(X_train, y_train)\n",
    "\n",
    "y_pred = knn.predict(X_test)\n",
    "\n",
    "# Метрики\n",
    "mse = mean_squared_error(y_test, y_pred)\n",
    "mae = mean_absolute_error(y_test, y_pred)\n",
    "r2 = r2_score(y_test, y_pred)\n",
    "\n",
    "# Вывод метрик\n",
    "print(\"\\n=== Результаты на Тесте ===\")\n",
    "print(f\"Среднеквадратичная ошибка (MSE): {mse:.2f}\")\n",
    "print(f\"Средняя абсолютная ошибка (MAE): {mae:.2f}\")\n",
    "print(f\"Коэффициент детерминации (R^2): {r2:.2f}\")"
   ]
  },
  {
   "cell_type": "markdown",
   "metadata": {},
   "source": [
    "Как можем увидеть значение метрики $R^2$ около 0.88, что означает что около 88% дисперсии данных объясняется моделью. Данное значение является очень хорошим, для такой простой модели."
   ]
  },
  {
   "cell_type": "markdown",
   "metadata": {},
   "source": [
    "#### 3. Формулировка гипотез"
   ]
  },
  {
   "cell_type": "markdown",
   "metadata": {},
   "source": [
    "Сформулируем несколько гипотез, которые могут помочь улучшить качество модели\n",
    "\n",
    "1) Поменять Encoder категориальных признаков с `LabelEncoder` на `OneHotEncoder`\n",
    "2) Отмасштабировать численные признаки\n",
    "3) Увеличить число соседей"
   ]
  },
  {
   "cell_type": "code",
   "execution_count": null,
   "metadata": {},
   "outputs": [],
   "source": [
    "onehot = OneHotEncoder(sparse_output=False, drop='first')\n",
    "\n",
    "categorical_features = ['Gender', 'Education Level']\n",
    "\n",
    "\n",
    "encoded_train_data = onehot.fit_transform(X_train[categorical_features])\n",
    "encoded_test_data = onehot.transform(X_test[categorical_features])\n",
    "\n",
    "encoded_df = pd.DataFrame(encoded_train_data, columns=onehot.get_feature_names_out(categorical_features))\n",
    "X_train_upd = X_train.drop(columns=categorical_features).reset_index(drop=True)\n",
    "X_train_upd = pd.concat([X_train_upd, encoded_df], axis=1)\n",
    "\n",
    "encoded_df = pd.DataFrame(encoded_test_data, columns=onehot.get_feature_names_out(categorical_features))\n",
    "X_test_upd = X_test.drop(columns=categorical_features).reset_index(drop=True)\n",
    "X_test_upd = pd.concat([X_test_upd, encoded_df], axis=1)\n"
   ]
  },
  {
   "cell_type": "code",
   "execution_count": 8,
   "metadata": {},
   "outputs": [],
   "source": [
    "scaler = StandardScaler()\n",
    "num_features = ['Age', 'Years of Experience']\n",
    "X_train_upd[num_features] = scaler.fit_transform(X_train[num_features])\n",
    "X_test_upd[num_features] = scaler.transform(X_test[num_features])"
   ]
  },
  {
   "cell_type": "code",
   "execution_count": 9,
   "metadata": {},
   "outputs": [
    {
     "name": "stdout",
     "output_type": "stream",
     "text": [
      "| Metric   |          Mean |        Std Dev |\n",
      "|:---------|--------------:|---------------:|\n",
      "| MAE      | 9968.43       | 1442.31        |\n",
      "| MSE      |    2.2115e+08 |    6.89202e+07 |\n",
      "| R2       |    0.904675   |    0.0335729   |\n",
      "\n",
      "=== Результаты на Тесте ===\n",
      "Среднеквадратичная ошибка (MSE): 206389839.36\n",
      "Средняя абсолютная ошибка (MAE): 9637.55\n",
      "Коэффициент детерминации (R^2): 0.91\n"
     ]
    }
   ],
   "source": [
    "metrics = regression_cross_validate(KNeighborsRegressor, X_train_upd.to_numpy(), y_train.to_numpy(), n_folds=5, n_neighbors=5)\n",
    "display_metrics_table(*metrics)\n",
    "\n",
    "knn = KNeighborsRegressor(n_neighbors=5)\n",
    "knn.fit(X_train_upd, y_train)\n",
    "\n",
    "y_pred = knn.predict(X_test_upd)\n",
    "\n",
    "# Метрики\n",
    "mse = mean_squared_error(y_test, y_pred)\n",
    "mae = mean_absolute_error(y_test, y_pred)\n",
    "r2 = r2_score(y_test, y_pred)\n",
    "\n",
    "# Вывод метрик\n",
    "print(\"\\n=== Результаты на Тесте ===\")\n",
    "print(f\"Среднеквадратичная ошибка (MSE): {mse:.2f}\")\n",
    "print(f\"Средняя абсолютная ошибка (MAE): {mae:.2f}\")\n",
    "print(f\"Коэффициент детерминации (R^2): {r2:.2f}\")"
   ]
  },
  {
   "cell_type": "markdown",
   "metadata": {},
   "source": [
    "Можно увидеть что в среднем значения метрик улучшились. Результаты на тестовой выборке также показывают приросты."
   ]
  },
  {
   "cell_type": "markdown",
   "metadata": {},
   "source": [
    "#### 4. Реализация своего класса"
   ]
  },
  {
   "cell_type": "code",
   "execution_count": 10,
   "metadata": {},
   "outputs": [],
   "source": [
    "class KNNRegressor:\n",
    "    def __init__(self, n_neighbors=5, metric='euclidean'):\n",
    "        \"\"\"\n",
    "        Инициализация KNNRegressor.\n",
    "        \"\"\"\n",
    "        self.n_neighbors = n_neighbors\n",
    "        self.metric = metric\n",
    "    \n",
    "    def fit(self, X, y):\n",
    "        self.X_train = np.array(X)\n",
    "        self.y_train = np.array(y)\n",
    "    \n",
    "    def _calculate_distance(self, x1, x2):\n",
    "        \"\"\"\n",
    "        Вычисляет расстояние между двумя точками в пространстве.\n",
    "        \"\"\"\n",
    "        if self.metric == 'euclidean':\n",
    "            return np.sqrt(np.sum((x1 - x2) ** 2))\n",
    "        elif self.metric == 'manhattan':\n",
    "            return np.sum(np.abs(x1 - x2))\n",
    "        else:\n",
    "            raise ValueError(f\"Unknown metric: {self.metric}\")\n",
    "    \n",
    "    def predict(self, X):\n",
    "        \"\"\"\n",
    "        Прогнозирует значения для входных данных.\n",
    "        \"\"\"\n",
    "        X = np.array(X)\n",
    "        predictions = []\n",
    "        \n",
    "        for x in X:\n",
    "            # Вычисление расстояний до всех точек из тренировочных данных\n",
    "            distances = np.array([self._calculate_distance(x, x_train) for x_train in self.X_train])\n",
    "            \n",
    "            # Находим индексы ближайших соседей\n",
    "            nearest_neighbors_indices = distances.argsort()[:self.n_neighbors]\n",
    "            \n",
    "            # Вычисляем среднее значение целевой переменной ближайших соседей\n",
    "            nearest_neighbors_values = self.y_train[nearest_neighbors_indices]\n",
    "            predictions.append(nearest_neighbors_values.mean())\n",
    "        \n",
    "        return np.array(predictions)"
   ]
  },
  {
   "cell_type": "code",
   "execution_count": 11,
   "metadata": {},
   "outputs": [
    {
     "name": "stdout",
     "output_type": "stream",
     "text": [
      "| Metric   |            Mean |       Std Dev |\n",
      "|:---------|----------------:|--------------:|\n",
      "| MAE      | 11202           | 587.067       |\n",
      "| MSE      |     2.89785e+08 |   3.17759e+07 |\n",
      "| R2       |     0.874733    |   0.0181375   |\n",
      "\n",
      "=== Результаты на Тесте ===\n",
      "Среднеквадратичная ошибка (MSE): 300472813.24\n",
      "Средняя абсолютная ошибка (MAE): 12234.04\n",
      "Коэффициент детерминации (R^2): 0.86\n"
     ]
    }
   ],
   "source": [
    "metrics = regression_cross_validate(KNNRegressor, X_train.to_numpy(), y_train.to_numpy(), n_folds=5, n_neighbors=3)\n",
    "display_metrics_table(*metrics)\n",
    "\n",
    "knn = KNNRegressor(n_neighbors=3)\n",
    "knn.fit(X_train, y_train)\n",
    "\n",
    "y_pred = knn.predict(X_test)\n",
    "\n",
    "# Метрики\n",
    "mse = mean_squared_error(y_test, y_pred)\n",
    "mae = mean_absolute_error(y_test, y_pred)\n",
    "r2 = r2_score(y_test, y_pred)\n",
    "\n",
    "# Вывод метрик\n",
    "print(\"\\n=== Результаты на Тесте ===\")\n",
    "print(f\"Среднеквадратичная ошибка (MSE): {mse:.2f}\")\n",
    "print(f\"Средняя абсолютная ошибка (MAE): {mae:.2f}\")\n",
    "print(f\"Коэффициент детерминации (R^2): {r2:.2f}\")"
   ]
  },
  {
   "cell_type": "code",
   "execution_count": 12,
   "metadata": {},
   "outputs": [
    {
     "name": "stdout",
     "output_type": "stream",
     "text": [
      "| Metric   |           Mean |        Std Dev |\n",
      "|:---------|---------------:|---------------:|\n",
      "| MAE      | 9793.5         | 1254.12        |\n",
      "| MSE      |    2.15831e+08 |    5.70089e+07 |\n",
      "| R2       |    0.907249    |    0.0271058   |\n",
      "\n",
      "=== Результаты на Тесте ===\n",
      "Среднеквадратичная ошибка (MSE): 206958827.66\n",
      "Средняя абсолютная ошибка (MAE): 9615.53\n",
      "Коэффициент детерминации (R^2): 0.91\n"
     ]
    }
   ],
   "source": [
    "metrics = regression_cross_validate(KNNRegressor, X_train_upd.to_numpy(), y_train.to_numpy(), n_folds=5, n_neighbors=5)\n",
    "display_metrics_table(*metrics)\n",
    "\n",
    "knn = KNNRegressor(n_neighbors=5)\n",
    "knn.fit(X_train_upd, y_train)\n",
    "\n",
    "y_pred = knn.predict(X_test_upd)\n",
    "\n",
    "# Метрики\n",
    "mse = mean_squared_error(y_test, y_pred)\n",
    "mae = mean_absolute_error(y_test, y_pred)\n",
    "r2 = r2_score(y_test, y_pred)\n",
    "\n",
    "# Вывод метрик\n",
    "print(\"\\n=== Результаты на Тесте ===\")\n",
    "print(f\"Среднеквадратичная ошибка (MSE): {mse:.2f}\")\n",
    "print(f\"Средняя абсолютная ошибка (MAE): {mae:.2f}\")\n",
    "print(f\"Коэффициент детерминации (R^2): {r2:.2f}\")"
   ]
  },
  {
   "cell_type": "markdown",
   "metadata": {},
   "source": [
    "Результаты показывают что собственная имплементация модели в среднем работает примерно на том же уровне качества, что и модель из `sklearn`"
   ]
  },
  {
   "cell_type": "markdown",
   "metadata": {},
   "source": [
    "### Classification"
   ]
  },
  {
   "cell_type": "markdown",
   "metadata": {},
   "source": [
    "#### 1. Обработка данных"
   ]
  },
  {
   "cell_type": "code",
   "execution_count": 13,
   "metadata": {},
   "outputs": [
    {
     "data": {
      "text/html": [
       "<div>\n",
       "<style scoped>\n",
       "    .dataframe tbody tr th:only-of-type {\n",
       "        vertical-align: middle;\n",
       "    }\n",
       "\n",
       "    .dataframe tbody tr th {\n",
       "        vertical-align: top;\n",
       "    }\n",
       "\n",
       "    .dataframe thead th {\n",
       "        text-align: right;\n",
       "    }\n",
       "</style>\n",
       "<table border=\"1\" class=\"dataframe\">\n",
       "  <thead>\n",
       "    <tr style=\"text-align: right;\">\n",
       "      <th></th>\n",
       "      <th>id</th>\n",
       "      <th>Gender</th>\n",
       "      <th>Age</th>\n",
       "      <th>City</th>\n",
       "      <th>Profession</th>\n",
       "      <th>Academic Pressure</th>\n",
       "      <th>Work Pressure</th>\n",
       "      <th>CGPA</th>\n",
       "      <th>Study Satisfaction</th>\n",
       "      <th>Job Satisfaction</th>\n",
       "      <th>Sleep Duration</th>\n",
       "      <th>Dietary Habits</th>\n",
       "      <th>Degree</th>\n",
       "      <th>Have you ever had suicidal thoughts ?</th>\n",
       "      <th>Work/Study Hours</th>\n",
       "      <th>Financial Stress</th>\n",
       "      <th>Family History of Mental Illness</th>\n",
       "      <th>Depression</th>\n",
       "    </tr>\n",
       "  </thead>\n",
       "  <tbody>\n",
       "    <tr>\n",
       "      <th>0</th>\n",
       "      <td>2</td>\n",
       "      <td>Male</td>\n",
       "      <td>33.0</td>\n",
       "      <td>Visakhapatnam</td>\n",
       "      <td>Student</td>\n",
       "      <td>5.0</td>\n",
       "      <td>0.0</td>\n",
       "      <td>8.97</td>\n",
       "      <td>2.0</td>\n",
       "      <td>0.0</td>\n",
       "      <td>5-6 hours</td>\n",
       "      <td>Healthy</td>\n",
       "      <td>B.Pharm</td>\n",
       "      <td>Yes</td>\n",
       "      <td>3.0</td>\n",
       "      <td>1.0</td>\n",
       "      <td>No</td>\n",
       "      <td>1</td>\n",
       "    </tr>\n",
       "    <tr>\n",
       "      <th>1</th>\n",
       "      <td>8</td>\n",
       "      <td>Female</td>\n",
       "      <td>24.0</td>\n",
       "      <td>Bangalore</td>\n",
       "      <td>Student</td>\n",
       "      <td>2.0</td>\n",
       "      <td>0.0</td>\n",
       "      <td>5.90</td>\n",
       "      <td>5.0</td>\n",
       "      <td>0.0</td>\n",
       "      <td>5-6 hours</td>\n",
       "      <td>Moderate</td>\n",
       "      <td>BSc</td>\n",
       "      <td>No</td>\n",
       "      <td>3.0</td>\n",
       "      <td>2.0</td>\n",
       "      <td>Yes</td>\n",
       "      <td>0</td>\n",
       "    </tr>\n",
       "    <tr>\n",
       "      <th>2</th>\n",
       "      <td>26</td>\n",
       "      <td>Male</td>\n",
       "      <td>31.0</td>\n",
       "      <td>Srinagar</td>\n",
       "      <td>Student</td>\n",
       "      <td>3.0</td>\n",
       "      <td>0.0</td>\n",
       "      <td>7.03</td>\n",
       "      <td>5.0</td>\n",
       "      <td>0.0</td>\n",
       "      <td>Less than 5 hours</td>\n",
       "      <td>Healthy</td>\n",
       "      <td>BA</td>\n",
       "      <td>No</td>\n",
       "      <td>9.0</td>\n",
       "      <td>1.0</td>\n",
       "      <td>Yes</td>\n",
       "      <td>0</td>\n",
       "    </tr>\n",
       "    <tr>\n",
       "      <th>3</th>\n",
       "      <td>30</td>\n",
       "      <td>Female</td>\n",
       "      <td>28.0</td>\n",
       "      <td>Varanasi</td>\n",
       "      <td>Student</td>\n",
       "      <td>3.0</td>\n",
       "      <td>0.0</td>\n",
       "      <td>5.59</td>\n",
       "      <td>2.0</td>\n",
       "      <td>0.0</td>\n",
       "      <td>7-8 hours</td>\n",
       "      <td>Moderate</td>\n",
       "      <td>BCA</td>\n",
       "      <td>Yes</td>\n",
       "      <td>4.0</td>\n",
       "      <td>5.0</td>\n",
       "      <td>Yes</td>\n",
       "      <td>1</td>\n",
       "    </tr>\n",
       "    <tr>\n",
       "      <th>4</th>\n",
       "      <td>32</td>\n",
       "      <td>Female</td>\n",
       "      <td>25.0</td>\n",
       "      <td>Jaipur</td>\n",
       "      <td>Student</td>\n",
       "      <td>4.0</td>\n",
       "      <td>0.0</td>\n",
       "      <td>8.13</td>\n",
       "      <td>3.0</td>\n",
       "      <td>0.0</td>\n",
       "      <td>5-6 hours</td>\n",
       "      <td>Moderate</td>\n",
       "      <td>M.Tech</td>\n",
       "      <td>Yes</td>\n",
       "      <td>1.0</td>\n",
       "      <td>1.0</td>\n",
       "      <td>No</td>\n",
       "      <td>0</td>\n",
       "    </tr>\n",
       "  </tbody>\n",
       "</table>\n",
       "</div>"
      ],
      "text/plain": [
       "   id  Gender   Age           City Profession  Academic Pressure  \\\n",
       "0   2    Male  33.0  Visakhapatnam    Student                5.0   \n",
       "1   8  Female  24.0      Bangalore    Student                2.0   \n",
       "2  26    Male  31.0       Srinagar    Student                3.0   \n",
       "3  30  Female  28.0       Varanasi    Student                3.0   \n",
       "4  32  Female  25.0         Jaipur    Student                4.0   \n",
       "\n",
       "   Work Pressure  CGPA  Study Satisfaction  Job Satisfaction  \\\n",
       "0            0.0  8.97                 2.0               0.0   \n",
       "1            0.0  5.90                 5.0               0.0   \n",
       "2            0.0  7.03                 5.0               0.0   \n",
       "3            0.0  5.59                 2.0               0.0   \n",
       "4            0.0  8.13                 3.0               0.0   \n",
       "\n",
       "      Sleep Duration Dietary Habits   Degree  \\\n",
       "0          5-6 hours        Healthy  B.Pharm   \n",
       "1          5-6 hours       Moderate      BSc   \n",
       "2  Less than 5 hours        Healthy       BA   \n",
       "3          7-8 hours       Moderate      BCA   \n",
       "4          5-6 hours       Moderate   M.Tech   \n",
       "\n",
       "  Have you ever had suicidal thoughts ?  Work/Study Hours  Financial Stress  \\\n",
       "0                                   Yes               3.0               1.0   \n",
       "1                                    No               3.0               2.0   \n",
       "2                                    No               9.0               1.0   \n",
       "3                                   Yes               4.0               5.0   \n",
       "4                                   Yes               1.0               1.0   \n",
       "\n",
       "  Family History of Mental Illness  Depression  \n",
       "0                               No           1  \n",
       "1                              Yes           0  \n",
       "2                              Yes           0  \n",
       "3                              Yes           1  \n",
       "4                               No           0  "
      ]
     },
     "execution_count": 13,
     "metadata": {},
     "output_type": "execute_result"
    }
   ],
   "source": [
    "df = pd.read_csv('data/Student_Depression_Dataset.csv')\n",
    "df.head()"
   ]
  },
  {
   "cell_type": "code",
   "execution_count": 14,
   "metadata": {},
   "outputs": [],
   "source": [
    "X, y = df.drop(columns=['Depression', 'id']), df['Depression']\n",
    "\n",
    "X_train, X_test, y_train, y_test = train_test_split(X, y, random_state=42)\n",
    "\n",
    "categorical_features = ['Gender', 'City', 'Profession', 'Sleep Duration', 'Dietary Habits', 'Degree', 'Have you ever had suicidal thoughts ?', 'Family History of Mental Illness']\n",
    "num_features = ['Age', 'Academic Pressure', 'Work Pressure', 'CGPA', 'Study Satisfaction', 'Job Satisfaction', 'Work/Study Hours', 'Financial Stress', ]\n",
    "\n",
    "le = OrdinalEncoder(handle_unknown='use_encoded_value',\n",
    "                    unknown_value=99)\n",
    "\n",
    "X_train[categorical_features] = le.fit_transform(X_train[categorical_features])\n",
    "X_test[categorical_features] = le.transform(X_test[categorical_features])\n",
    "\n",
    "imputer = SimpleImputer(strategy='most_frequent') \n",
    "X_train = pd.DataFrame(imputer.fit_transform(X_train), columns=X_train.columns)\n",
    "X_test = pd.DataFrame(imputer.transform(X_test), columns=X_test.columns)"
   ]
  },
  {
   "cell_type": "markdown",
   "metadata": {},
   "source": [
    "#### 2. Построение бейзлайна "
   ]
  },
  {
   "cell_type": "code",
   "execution_count": 15,
   "metadata": {},
   "outputs": [
    {
     "name": "stdout",
     "output_type": "stream",
     "text": [
      "| Metric    |     Mean |    Std Dev |\n",
      "|:----------|---------:|-----------:|\n",
      "| Accuracy  | 0.737539 | 0.00632668 |\n",
      "| Precision | 0.735315 | 0.00636422 |\n",
      "| Recall    | 0.737539 | 0.00632668 |\n",
      "| F1-score  | 0.735266 | 0.00638781 |\n",
      "\n",
      "=== Результаты на Тесте ===\n",
      "1. Accuracy: 73.71%\n",
      "2. Precision: 73.51%\n",
      "3. Recall: 73.71%\n",
      "4. F1-score: 73.50%\n"
     ]
    }
   ],
   "source": [
    "metrics = classification_cross_validate(KNeighborsClassifier, X_train.to_numpy(), y_train.to_numpy(), n_folds=5, n_neighbors=3)\n",
    "display_metrics_classification_table(*metrics)\n",
    "\n",
    "knn = KNeighborsClassifier(n_neighbors=3)  # Выбираем количество соседей\n",
    "knn.fit(X_train, y_train)\n",
    "\n",
    "y_pred = knn.predict(X_test)\n",
    "\n",
    "accuracy = accuracy_score(y_test, y_pred)\n",
    "precision = precision_score(y_test, y_pred, average='weighted')\n",
    "recall = recall_score(y_test, y_pred, average='weighted')\n",
    "f1 = f1_score(y_test, y_pred, average='weighted')\n",
    "\n",
    "# Выводим результаты\n",
    "print(\"\\n=== Результаты на Тесте ===\")\n",
    "print(f\"1. Accuracy: {accuracy:.2%}\")\n",
    "print(f\"2. Precision: {precision:.2%}\")\n",
    "print(f\"3. Recall: {recall:.2%}\")\n",
    "print(f\"4. F1-score: {f1:.2%}\")"
   ]
  },
  {
   "cell_type": "markdown",
   "metadata": {},
   "source": [
    "#### 3. Формулировка гипотез"
   ]
  },
  {
   "cell_type": "markdown",
   "metadata": {},
   "source": [
    "Сформулируем несколько гипотез, которые могут помочь улучшить качество модели\n",
    "\n",
    "1) Поменять Encoder категориальных признаков с `LabelEncoder` на `OneHotEncoder`\n",
    "2) Отмасштабировать численные признаки\n",
    "3) Увеличить число соседей"
   ]
  },
  {
   "cell_type": "code",
   "execution_count": 16,
   "metadata": {},
   "outputs": [
    {
     "name": "stderr",
     "output_type": "stream",
     "text": [
      "/home/constantfear/.pyenv/versions/3.9.19/envs/labs/lib/python3.9/site-packages/sklearn/preprocessing/_encoders.py:242: UserWarning: Found unknown categories in columns [1, 2] during transform. These unknown categories will be encoded as all zeros\n",
      "  warnings.warn(\n"
     ]
    }
   ],
   "source": [
    "onehot = OneHotEncoder(sparse_output=False, drop='first', handle_unknown='ignore')\n",
    "\n",
    "encoded_train_data = onehot.fit_transform(X_train[categorical_features])\n",
    "encoded_test_data = onehot.transform(X_test[categorical_features])\n",
    "\n",
    "encoded_df = pd.DataFrame(encoded_train_data, columns=onehot.get_feature_names_out(categorical_features))\n",
    "X_train_upd = X_train.drop(columns=categorical_features).reset_index(drop=True)\n",
    "X_train_upd = pd.concat([X_train_upd, encoded_df], axis=1)\n",
    "\n",
    "encoded_df = pd.DataFrame(encoded_test_data, columns=onehot.get_feature_names_out(categorical_features))\n",
    "X_test_upd = X_test.drop(columns=categorical_features).reset_index(drop=True)\n",
    "X_test_upd = pd.concat([X_test_upd, encoded_df], axis=1)\n",
    "\n",
    "\n",
    "scaler = StandardScaler()\n",
    "X_train_upd[num_features] = scaler.fit_transform(X_train[num_features])\n",
    "X_test_upd[num_features] = scaler.transform(X_test[num_features])"
   ]
  },
  {
   "cell_type": "code",
   "execution_count": 17,
   "metadata": {},
   "outputs": [
    {
     "name": "stdout",
     "output_type": "stream",
     "text": [
      "| Metric    |     Mean |    Std Dev |\n",
      "|:----------|---------:|-----------:|\n",
      "| Accuracy  | 0.814671 | 0.00471789 |\n",
      "| Precision | 0.814213 | 0.0047123  |\n",
      "| Recall    | 0.814671 | 0.00471789 |\n",
      "| F1-score  | 0.813041 | 0.00511674 |\n",
      "\n",
      "=== Результаты на Тесте ===\n",
      "1. Accuracy: 80.83%\n",
      "2. Precision: 80.78%\n",
      "3. Recall: 80.83%\n",
      "4. F1-score: 80.67%\n"
     ]
    }
   ],
   "source": [
    "metrics = classification_cross_validate(KNeighborsClassifier, X_train_upd.to_numpy(), y_train.to_numpy(), n_folds=5, n_neighbors=5)\n",
    "display_metrics_classification_table(*metrics)\n",
    "\n",
    "knn = KNeighborsClassifier(n_neighbors=5)  # Выбираем количество соседей\n",
    "knn.fit(X_train_upd, y_train)\n",
    "\n",
    "y_pred = knn.predict(X_test_upd)\n",
    "\n",
    "accuracy = accuracy_score(y_test, y_pred)\n",
    "precision = precision_score(y_test, y_pred, average='weighted')\n",
    "recall = recall_score(y_test, y_pred, average='weighted')\n",
    "f1 = f1_score(y_test, y_pred, average='weighted')\n",
    "\n",
    "# Выводим результаты\n",
    "print(\"\\n=== Результаты на Тесте ===\")\n",
    "print(f\"1. Accuracy: {accuracy:.2%}\")\n",
    "print(f\"2. Precision: {precision:.2%}\")\n",
    "print(f\"3. Recall: {recall:.2%}\")\n",
    "print(f\"4. F1-score: {f1:.2%}\")"
   ]
  },
  {
   "cell_type": "markdown",
   "metadata": {},
   "source": [
    "Можно увидеть что в среднем значения метрик улучшились. \n",
    "Результаты на тестовой выборке также показывают приросты."
   ]
  },
  {
   "cell_type": "markdown",
   "metadata": {},
   "source": [
    "#### 4. Реализация своего класса"
   ]
  },
  {
   "cell_type": "code",
   "execution_count": 18,
   "metadata": {},
   "outputs": [],
   "source": [
    "from annoy import AnnoyIndex"
   ]
  },
  {
   "cell_type": "code",
   "execution_count": 19,
   "metadata": {},
   "outputs": [],
   "source": [
    "class KNNClassifier:\n",
    "    def __init__(self, n_neighbors=5, metric='euclidean'):\n",
    "        \"\"\"\n",
    "        Инициализация KNNClassifier.\n",
    "        \"\"\"\n",
    "        self.n_neighbors = n_neighbors\n",
    "        self.n_trees = 10\n",
    "        self.metric = metric\n",
    "    \n",
    "    def fit(self, X, y):\n",
    "        self.X_train = np.array(X)\n",
    "        self.y_train = np.array(y)\n",
    "        self.n_features = self.X_train.shape[1]\n",
    "\n",
    "        # Создаём индекс Annoy\n",
    "        self.index = AnnoyIndex(self.n_features, metric=self.metric)\n",
    "        for i, x in enumerate(self.X_train):\n",
    "            self.index.add_item(i, x)\n",
    "        \n",
    "        # Строим деревья\n",
    "        self.index.build(self.n_trees)\n",
    "    \n",
    "    \n",
    "    def predict(self, X):\n",
    "        \n",
    "        \"\"\"\n",
    "        Классифицирует входные данные.\n",
    "        \"\"\"\n",
    "        X = np.array(X)\n",
    "        predictions = []\n",
    "        \n",
    "        for x in X:\n",
    "            # Находим ближайших соседей\n",
    "            nearest_neighbors_indices = self.index.get_nns_by_vector(x, self.n_neighbors)\n",
    "            \n",
    "            # Получаем метки ближайших соседей\n",
    "            nearest_neighbors_labels = self.y_train[nearest_neighbors_indices]\n",
    "            \n",
    "            # Голосование: выбираем наиболее частый класс\n",
    "            most_common_class = Counter(nearest_neighbors_labels).most_common(1)[0][0]\n",
    "            predictions.append(most_common_class)\n",
    "        \n",
    "        return np.array(predictions)"
   ]
  },
  {
   "cell_type": "code",
   "execution_count": 20,
   "metadata": {},
   "outputs": [
    {
     "name": "stdout",
     "output_type": "stream",
     "text": [
      "| Metric    |     Mean |    Std Dev |\n",
      "|:----------|---------:|-----------:|\n",
      "| Accuracy  | 0.729223 | 0.00319656 |\n",
      "| Precision | 0.726935 | 0.00324859 |\n",
      "| Recall    | 0.729223 | 0.00319656 |\n",
      "| F1-score  | 0.727074 | 0.00314616 |\n",
      "\n",
      "=== Результаты на Тесте ===\n",
      "1. Accuracy: 72.55%\n",
      "2. Precision: 72.32%\n",
      "3. Recall: 72.55%\n",
      "4. F1-score: 72.31%\n"
     ]
    }
   ],
   "source": [
    "metrics = classification_cross_validate(KNNClassifier, X_train.to_numpy(), y_train.to_numpy(), n_folds=5, n_neighbors=3)\n",
    "display_metrics_classification_table(*metrics)\n",
    "\n",
    "knn = KNNClassifier(n_neighbors=3)\n",
    "knn.fit(X_train, y_train)\n",
    "\n",
    "y_pred = knn.predict(X_test)\n",
    "\n",
    "accuracy = accuracy_score(y_test, y_pred)\n",
    "precision = precision_score(y_test, y_pred, average='weighted')\n",
    "recall = recall_score(y_test, y_pred, average='weighted')\n",
    "f1 = f1_score(y_test, y_pred, average='weighted')\n",
    "\n",
    "# Выводим результаты\n",
    "print(\"\\n=== Результаты на Тесте ===\")\n",
    "print(f\"1. Accuracy: {accuracy:.2%}\")\n",
    "print(f\"2. Precision: {precision:.2%}\")\n",
    "print(f\"3. Recall: {recall:.2%}\")\n",
    "print(f\"4. F1-score: {f1:.2%}\")"
   ]
  },
  {
   "cell_type": "code",
   "execution_count": 21,
   "metadata": {},
   "outputs": [
    {
     "name": "stdout",
     "output_type": "stream",
     "text": [
      "| Metric    |     Mean |    Std Dev |\n",
      "|:----------|---------:|-----------:|\n",
      "| Accuracy  | 0.809319 | 0.00791926 |\n",
      "| Precision | 0.808459 | 0.00795994 |\n",
      "| Recall    | 0.809319 | 0.00791926 |\n",
      "| F1-score  | 0.807981 | 0.00803129 |\n",
      "\n",
      "=== Результаты на Тесте ===\n",
      "1. Accuracy: 79.97%\n",
      "2. Precision: 79.88%\n",
      "3. Recall: 79.97%\n",
      "4. F1-score: 79.87%\n"
     ]
    }
   ],
   "source": [
    "metrics = classification_cross_validate(KNNClassifier, X_train_upd.to_numpy(), y_train.to_numpy(), n_folds=5, n_neighbors=5)\n",
    "display_metrics_classification_table(*metrics)\n",
    "\n",
    "knn = KNNClassifier(n_neighbors=5)\n",
    "knn.fit(X_train_upd, y_train)\n",
    "\n",
    "y_pred = knn.predict(X_test_upd)\n",
    "\n",
    "accuracy = accuracy_score(y_test, y_pred)\n",
    "precision = precision_score(y_test, y_pred, average='weighted')\n",
    "recall = recall_score(y_test, y_pred, average='weighted')\n",
    "f1 = f1_score(y_test, y_pred, average='weighted')\n",
    "\n",
    "# Выводим результаты\n",
    "print(\"\\n=== Результаты на Тесте ===\")\n",
    "print(f\"1. Accuracy: {accuracy:.2%}\")\n",
    "print(f\"2. Precision: {precision:.2%}\")\n",
    "print(f\"3. Recall: {recall:.2%}\")\n",
    "print(f\"4. F1-score: {f1:.2%}\")"
   ]
  },
  {
   "cell_type": "markdown",
   "metadata": {},
   "source": [
    "Результаты показывают что собственная имплементация модели в среднем работает примерно на том же уровне качества, что и модель из `sklearn`"
   ]
  },
  {
   "cell_type": "markdown",
   "metadata": {},
   "source": [
    "### Заключение"
   ]
  },
  {
   "cell_type": "markdown",
   "metadata": {},
   "source": [
    "Внесённые изменения, включая нормализацию данных и увеличение числа соседей в алгоритме поиска ближайших соседей, улучшают точность модели. Проведённые эксперименты демонстрируют, что как собственная реализация, так и применение моделей из sklearn, дают схожие результаты."
   ]
  },
  {
   "cell_type": "markdown",
   "metadata": {},
   "source": [
    "| Модель                    |      MSE  |        MAE |      $R^2$ |\n",
    "|:--------------------------|----------:|-----------:|-----------:|\n",
    "| Sklearn (до улучшения)    | 2.59e+08  | 11612.23   |  0.88      |\n",
    "| Sklearn (после улучшения) | 2.063e+08 | 9637.55    |  0.91      |\n",
    "| Собственная имплементация (до улучшения)   | 3.004e+08 | 12234.04   |  0.86      |\n",
    "| Собственная имплементация (после улучшения)| 2.069e+08  | 9615.53    |  0.91      |"
   ]
  },
  {
   "cell_type": "markdown",
   "metadata": {},
   "source": [
    "| Модель                    |  Accuracy |  Precision |     Recall |    F1-scor |\n",
    "|:--------------------------|----------:|-----------:|-----------:|-----------:|\n",
    "| Sklearn (до улучшения)    |   73.71%  |   73.51%   |  73.71%    |  73.50%    |\n",
    "| Sklearn (после улучшения) |   80.83%  |   80.78%   |  80.83%    |  80.67%    |\n",
    "| Собственная имплементация (до улучшения)   |   72.55%  |   72.32%   |  72.55%    |  72.31%    |\n",
    "| Собственная имплементация (после улучшения)|   79.97%  |   79.88%   |  79.97%    |  79.87%    |"
   ]
  }
 ],
 "metadata": {
  "kernelspec": {
   "display_name": "labs",
   "language": "python",
   "name": "python3"
  },
  "language_info": {
   "codemirror_mode": {
    "name": "ipython",
    "version": 3
   },
   "file_extension": ".py",
   "mimetype": "text/x-python",
   "name": "python",
   "nbconvert_exporter": "python",
   "pygments_lexer": "ipython3",
   "version": "3.9.19"
  }
 },
 "nbformat": 4,
 "nbformat_minor": 2
}
